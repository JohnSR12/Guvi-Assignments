{
 "cells": [
  {
   "cell_type": "code",
   "execution_count": 1,
   "id": "f04ddfab",
   "metadata": {},
   "outputs": [],
   "source": [
    "import numpy as np"
   ]
  },
  {
   "cell_type": "code",
   "execution_count": 2,
   "id": "f2fd93e5",
   "metadata": {},
   "outputs": [],
   "source": [
    "# Import phi from train data set\n",
    "phi = np.loadtxt('C:/Users/Sam/Desktop/Guvi/DW22/Task 6/data/train.csv', dtype='float', delimiter=',', skiprows=1, usecols=tuple(range(1, 14)))"
   ]
  },
  {
   "cell_type": "code",
   "execution_count": 3,
   "id": "80552626",
   "metadata": {},
   "outputs": [],
   "source": [
    "# Import phi_test from test data set\n",
    "phi_test = np.loadtxt('C:/Users/Sam/Desktop/Guvi/DW22/Task 6/data/test.csv', dtype='float', delimiter=',', skiprows=1, usecols=tuple(range(1, 14)))"
   ]
  },
  {
   "cell_type": "code",
   "execution_count": 4,
   "id": "1c09b87c",
   "metadata": {},
   "outputs": [],
   "source": [
    "#Import y from train dataset using the loadtxt function\n",
    "y = np.loadtxt('C:/Users/Sam/Desktop/Guvi/DW22/Task 6/data/train.csv', dtype='float', delimiter=',', skiprows=1, usecols=14, ndmin=2)"
   ]
  },
  {
   "cell_type": "code",
   "execution_count": 5,
   "id": "cecc7f96",
   "metadata": {
    "scrolled": true
   },
   "outputs": [],
   "source": [
    "#Concatenate coloumn of 1s to right of phi and phi_test\n",
    "phi_test = np.concatenate((phi_test, np.ones((105, 1))), axis=1)\n",
    "phi = np.concatenate((phi, np.ones((400, 1))), axis=1)"
   ]
  },
  {
   "cell_type": "code",
   "execution_count": 6,
   "id": "32bd6f15",
   "metadata": {},
   "outputs": [],
   "source": [
    "#Apply min max scaling on each coloumn of phi and phi_test\n",
    "\n",
    "for i in range(0, 13):\n",
    "    col_max = max(phi[:, i])\n",
    "    col_min = min(phi[:, i])\n",
    "    phi[:, i] = (phi[:, i] - col_min) / (col_max - col_min)\n",
    "    phi_test[:, i] = (phi_test[:, i] - col_min) / (col_max - col_min)"
   ]
  },
  {
   "cell_type": "code",
   "execution_count": 7,
   "id": "f4b5023a",
   "metadata": {},
   "outputs": [],
   "source": [
    "#Apply log scaling on y\n",
    "y = np.log(y)"
   ]
  },
  {
   "cell_type": "code",
   "execution_count": 8,
   "id": "b5954de6",
   "metadata": {},
   "outputs": [],
   "source": [
    "#Define a function to calculate change in error function based on phi, w and p norm\n",
    "def change_func(p, phi, w):\n",
    "    if p == 2:\n",
    "        change = (2 * (np.dot(np.dot(np.transpose(phi), phi), w) -\n",
    "                       np.dot(np.transpose(phi), y)) +\n",
    "                  lambd * p * np.power(np.absolute(w), (p - 1)))\n",
    "    if p < 2 and p > 1:\n",
    "        change = (2 * (np.dot(np.dot(np.transpose(phi), phi), w) -\n",
    "                       np.dot(np.transpose(phi), y)) +\n",
    "                  lambd * p * np.power(np.absolute(w), (p - 1)) * np.sign(w))\n",
    "    return change"
   ]
  },
  {
   "cell_type": "code",
   "execution_count": 9,
   "id": "2be8eae9",
   "metadata": {},
   "outputs": [],
   "source": [
    "#Make a dictionary containing filenames as keys and p as values\n",
    "filenames = {'output.csv': 2.0,\n",
    "             'output_p1.csv': 1.75,\n",
    "             'output_p2.csv': 1.5,\n",
    "             'output_p3.csv': 1.3\n",
    "             }"
   ]
  },
  {
   "cell_type": "code",
   "execution_count": 10,
   "id": "cca7c558",
   "metadata": {},
   "outputs": [],
   "source": [
    "#For each item in this dictionary:\n",
    "\n",
    "for (fname, p) in filenames.items():\n",
    "    w = np.zeros((14, 1))   #Set the w to all 0s\n",
    "    lambd = 0.2             #Hyperparameter lambda value\n",
    "    t = 0.00012             #Max step size\n",
    "    \n",
    "    w_new = w - t * change_func(p, phi, w) #Calculate new value of w\n",
    "    \n",
    "    #Repeat steps until error between consecutive w's is less than threshold\n",
    "    i = 0\n",
    "    while(np.linalg.norm(w_new - w) > 10 ** -10):\n",
    "        w = w_new\n",
    "        w_new = w - t * change_func(p, phi, w)\n",
    "        i = i + 1\n",
    "        \n",
    "    #Load values of id from test data file\n",
    "    id_test = np.loadtxt('C:/Users/Sam/Desktop/Guvi/DW22/Task 6/data/test.csv', dtype='int', delimiter=',',\n",
    "                         skiprows=1, usecols=0, ndmin=2)\n",
    "\n",
    "    #Calculate y for test data using phi test and applying inverse log\n",
    "    y_test = np.exp(np.dot(phi_test, w_new))\n",
    "    \n",
    "    #Save the ids and y according to filename from dictionary\n",
    "    np.savetxt(fname, np.concatenate((id_test, y_test), axis=1), delimiter=',', fmt=['%d', '%f'], header='ID,MEDV', comments='')"
   ]
  }
 ],
 "metadata": {
  "kernelspec": {
   "display_name": "Python 3",
   "language": "python",
   "name": "python3"
  },
  "language_info": {
   "codemirror_mode": {
    "name": "ipython",
    "version": 3
   },
   "file_extension": ".py",
   "mimetype": "text/x-python",
   "name": "python",
   "nbconvert_exporter": "python",
   "pygments_lexer": "ipython3",
   "version": "3.8.8"
  }
 },
 "nbformat": 4,
 "nbformat_minor": 5
}
