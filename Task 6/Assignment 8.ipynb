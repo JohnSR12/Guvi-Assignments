{
 "cells": [
  {
   "cell_type": "markdown",
   "metadata": {},
   "source": [
    "# Assignment8"
   ]
  },
  {
   "cell_type": "code",
   "execution_count": 1,
   "metadata": {},
   "outputs": [],
   "source": [
    "import pandas as pd\n",
    "import matplotlib.pyplot as plt\n",
    "import numpy as np\n",
    "import seaborn as sns\n",
    "\n",
    "\n",
    "from sklearn.model_selection import train_test_split\n",
    "from sklearn.linear_model import LinearRegression\n",
    "from sklearn.preprocessing import StandardScaler\n",
    "from sklearn.metrics import r2_score\n"
   ]
  },
  {
   "cell_type": "markdown",
   "metadata": {},
   "source": [
    "# How Much is Your Car Worth?\n",
    "\n",
    "Data about the retail price of 2005 General Motors cars can be found in `car_data.csv`.\n",
    "\n",
    "The columns are:\n",
    "\n",
    "1. Price: suggested retail price of the used 2005 GM car in excellent condition.\n",
    "2. Mileage: number of miles the car has been driven\n",
    "3. Make: manufacturer of the car such as Saturn, Pontiac, and Chevrolet\n",
    "4. Model: specific models for each car manufacturer such as Ion, Vibe, Cavalier\n",
    "5. Trim (of car): specific type of car model such as SE Sedan 4D, Quad Coupe 2D          \n",
    "6. Type: body type such as sedan, coupe, etc.      \n",
    "7. Cylinder: number of cylinders in the engine        \n",
    "8. Liter: a more specific measure of engine size     \n",
    "9. Doors: number of doors           \n",
    "10. Cruise: indicator variable representing whether the car has cruise control (1 = cruise)\n",
    "11. Sound: indicator variable representing whether the car has upgraded speakers (1 = upgraded)\n",
    "12. Leather: indicator variable representing whether the car has leather seats (1 = leather)\n",
    "\n",
    "## Tasks, Part 1\n",
    "\n",
    "1. Find the linear regression equation for mileage vs price.\n",
    "2. Chart the original data and the equation on the chart.\n",
    "3. Find the equation's $R^2$ score (use the `.score` method) to determine whether the\n",
    "equation is a good fit for this data. (0.8 and greater is considered a strong correlation.)\n",
    "\n",
    "## Tasks, Part 2\n",
    "\n",
    "1. Use mileage, cylinders, liters, doors, cruise, sound, and leather to find the linear regression equation.\n",
    "2. Find the equation's $R^2$ score (use the `.score` method) to determine whether the\n",
    "equation is a good fit for this data. (0.8 and greater is considered a strong correlation.)\n",
    "3. Find the combination of the factors that is the best predictor for price.\n",
    "\n",
    "## Tasks, Hard Mode\n",
    "\n",
    "1. Research dummy variables in scikit-learn to see how to use the make, model, and body type.\n",
    "2. Find the best combination of factors to predict price."
   ]
  },
  {
   "cell_type": "code",
   "execution_count": 2,
   "metadata": {},
   "outputs": [],
   "source": [
    "df = pd.read_csv(\"car_data.csv\")"
   ]
  },
  {
   "cell_type": "code",
   "execution_count": 3,
   "metadata": {
    "scrolled": true
   },
   "outputs": [
    {
     "name": "stdout",
     "output_type": "stream",
     "text": [
      "(804, 12)\n"
     ]
    },
    {
     "data": {
      "text/html": [
       "<div>\n",
       "<style scoped>\n",
       "    .dataframe tbody tr th:only-of-type {\n",
       "        vertical-align: middle;\n",
       "    }\n",
       "\n",
       "    .dataframe tbody tr th {\n",
       "        vertical-align: top;\n",
       "    }\n",
       "\n",
       "    .dataframe thead th {\n",
       "        text-align: right;\n",
       "    }\n",
       "</style>\n",
       "<table border=\"1\" class=\"dataframe\">\n",
       "  <thead>\n",
       "    <tr style=\"text-align: right;\">\n",
       "      <th></th>\n",
       "      <th>Price</th>\n",
       "      <th>Mileage</th>\n",
       "      <th>Make</th>\n",
       "      <th>Model</th>\n",
       "      <th>Trim</th>\n",
       "      <th>Type</th>\n",
       "      <th>Cylinder</th>\n",
       "      <th>Liter</th>\n",
       "      <th>Doors</th>\n",
       "      <th>Cruise</th>\n",
       "      <th>Sound</th>\n",
       "      <th>Leather</th>\n",
       "    </tr>\n",
       "  </thead>\n",
       "  <tbody>\n",
       "    <tr>\n",
       "      <th>0</th>\n",
       "      <td>17314.103129</td>\n",
       "      <td>8221</td>\n",
       "      <td>Buick</td>\n",
       "      <td>Century</td>\n",
       "      <td>Sedan 4D</td>\n",
       "      <td>Sedan</td>\n",
       "      <td>6</td>\n",
       "      <td>3.1</td>\n",
       "      <td>4</td>\n",
       "      <td>1</td>\n",
       "      <td>1</td>\n",
       "      <td>1</td>\n",
       "    </tr>\n",
       "    <tr>\n",
       "      <th>1</th>\n",
       "      <td>17542.036083</td>\n",
       "      <td>9135</td>\n",
       "      <td>Buick</td>\n",
       "      <td>Century</td>\n",
       "      <td>Sedan 4D</td>\n",
       "      <td>Sedan</td>\n",
       "      <td>6</td>\n",
       "      <td>3.1</td>\n",
       "      <td>4</td>\n",
       "      <td>1</td>\n",
       "      <td>1</td>\n",
       "      <td>0</td>\n",
       "    </tr>\n",
       "    <tr>\n",
       "      <th>2</th>\n",
       "      <td>16218.847862</td>\n",
       "      <td>13196</td>\n",
       "      <td>Buick</td>\n",
       "      <td>Century</td>\n",
       "      <td>Sedan 4D</td>\n",
       "      <td>Sedan</td>\n",
       "      <td>6</td>\n",
       "      <td>3.1</td>\n",
       "      <td>4</td>\n",
       "      <td>1</td>\n",
       "      <td>1</td>\n",
       "      <td>0</td>\n",
       "    </tr>\n",
       "    <tr>\n",
       "      <th>3</th>\n",
       "      <td>16336.913140</td>\n",
       "      <td>16342</td>\n",
       "      <td>Buick</td>\n",
       "      <td>Century</td>\n",
       "      <td>Sedan 4D</td>\n",
       "      <td>Sedan</td>\n",
       "      <td>6</td>\n",
       "      <td>3.1</td>\n",
       "      <td>4</td>\n",
       "      <td>1</td>\n",
       "      <td>0</td>\n",
       "      <td>0</td>\n",
       "    </tr>\n",
       "    <tr>\n",
       "      <th>4</th>\n",
       "      <td>16339.170324</td>\n",
       "      <td>19832</td>\n",
       "      <td>Buick</td>\n",
       "      <td>Century</td>\n",
       "      <td>Sedan 4D</td>\n",
       "      <td>Sedan</td>\n",
       "      <td>6</td>\n",
       "      <td>3.1</td>\n",
       "      <td>4</td>\n",
       "      <td>1</td>\n",
       "      <td>0</td>\n",
       "      <td>1</td>\n",
       "    </tr>\n",
       "  </tbody>\n",
       "</table>\n",
       "</div>"
      ],
      "text/plain": [
       "          Price  Mileage   Make    Model      Trim   Type  Cylinder  Liter  \\\n",
       "0  17314.103129     8221  Buick  Century  Sedan 4D  Sedan         6    3.1   \n",
       "1  17542.036083     9135  Buick  Century  Sedan 4D  Sedan         6    3.1   \n",
       "2  16218.847862    13196  Buick  Century  Sedan 4D  Sedan         6    3.1   \n",
       "3  16336.913140    16342  Buick  Century  Sedan 4D  Sedan         6    3.1   \n",
       "4  16339.170324    19832  Buick  Century  Sedan 4D  Sedan         6    3.1   \n",
       "\n",
       "   Doors  Cruise  Sound  Leather  \n",
       "0      4       1      1        1  \n",
       "1      4       1      1        0  \n",
       "2      4       1      1        0  \n",
       "3      4       1      0        0  \n",
       "4      4       1      0        1  "
      ]
     },
     "execution_count": 3,
     "metadata": {},
     "output_type": "execute_result"
    }
   ],
   "source": [
    "print(df.shape)\n",
    "df.head()"
   ]
  },
  {
   "cell_type": "code",
   "execution_count": 4,
   "metadata": {},
   "outputs": [
    {
     "name": "stdout",
     "output_type": "stream",
     "text": [
      "<class 'pandas.core.frame.DataFrame'>\n",
      "RangeIndex: 804 entries, 0 to 803\n",
      "Data columns (total 12 columns):\n",
      " #   Column    Non-Null Count  Dtype  \n",
      "---  ------    --------------  -----  \n",
      " 0   Price     804 non-null    float64\n",
      " 1   Mileage   804 non-null    int64  \n",
      " 2   Make      804 non-null    object \n",
      " 3   Model     804 non-null    object \n",
      " 4   Trim      804 non-null    object \n",
      " 5   Type      804 non-null    object \n",
      " 6   Cylinder  804 non-null    int64  \n",
      " 7   Liter     804 non-null    float64\n",
      " 8   Doors     804 non-null    int64  \n",
      " 9   Cruise    804 non-null    int64  \n",
      " 10  Sound     804 non-null    int64  \n",
      " 11  Leather   804 non-null    int64  \n",
      "dtypes: float64(2), int64(6), object(4)\n",
      "memory usage: 75.5+ KB\n"
     ]
    }
   ],
   "source": [
    "df.info()"
   ]
  },
  {
   "cell_type": "code",
   "execution_count": 5,
   "metadata": {},
   "outputs": [
    {
     "data": {
      "text/html": [
       "<div>\n",
       "<style scoped>\n",
       "    .dataframe tbody tr th:only-of-type {\n",
       "        vertical-align: middle;\n",
       "    }\n",
       "\n",
       "    .dataframe tbody tr th {\n",
       "        vertical-align: top;\n",
       "    }\n",
       "\n",
       "    .dataframe thead th {\n",
       "        text-align: right;\n",
       "    }\n",
       "</style>\n",
       "<table border=\"1\" class=\"dataframe\">\n",
       "  <thead>\n",
       "    <tr style=\"text-align: right;\">\n",
       "      <th></th>\n",
       "      <th>Price</th>\n",
       "      <th>Mileage</th>\n",
       "      <th>Cylinder</th>\n",
       "      <th>Liter</th>\n",
       "      <th>Doors</th>\n",
       "      <th>Cruise</th>\n",
       "      <th>Sound</th>\n",
       "      <th>Leather</th>\n",
       "    </tr>\n",
       "  </thead>\n",
       "  <tbody>\n",
       "    <tr>\n",
       "      <th>count</th>\n",
       "      <td>804.000000</td>\n",
       "      <td>804.000000</td>\n",
       "      <td>804.000000</td>\n",
       "      <td>804.000000</td>\n",
       "      <td>804.000000</td>\n",
       "      <td>804.000000</td>\n",
       "      <td>804.000000</td>\n",
       "      <td>804.000000</td>\n",
       "    </tr>\n",
       "    <tr>\n",
       "      <th>mean</th>\n",
       "      <td>21343.143767</td>\n",
       "      <td>19831.934080</td>\n",
       "      <td>5.268657</td>\n",
       "      <td>3.037313</td>\n",
       "      <td>3.527363</td>\n",
       "      <td>0.752488</td>\n",
       "      <td>0.679104</td>\n",
       "      <td>0.723881</td>\n",
       "    </tr>\n",
       "    <tr>\n",
       "      <th>std</th>\n",
       "      <td>9884.852801</td>\n",
       "      <td>8196.319707</td>\n",
       "      <td>1.387531</td>\n",
       "      <td>1.105562</td>\n",
       "      <td>0.850169</td>\n",
       "      <td>0.431836</td>\n",
       "      <td>0.467111</td>\n",
       "      <td>0.447355</td>\n",
       "    </tr>\n",
       "    <tr>\n",
       "      <th>min</th>\n",
       "      <td>8638.930895</td>\n",
       "      <td>266.000000</td>\n",
       "      <td>4.000000</td>\n",
       "      <td>1.600000</td>\n",
       "      <td>2.000000</td>\n",
       "      <td>0.000000</td>\n",
       "      <td>0.000000</td>\n",
       "      <td>0.000000</td>\n",
       "    </tr>\n",
       "    <tr>\n",
       "      <th>25%</th>\n",
       "      <td>14273.073870</td>\n",
       "      <td>14623.500000</td>\n",
       "      <td>4.000000</td>\n",
       "      <td>2.200000</td>\n",
       "      <td>4.000000</td>\n",
       "      <td>1.000000</td>\n",
       "      <td>0.000000</td>\n",
       "      <td>0.000000</td>\n",
       "    </tr>\n",
       "    <tr>\n",
       "      <th>50%</th>\n",
       "      <td>18024.995019</td>\n",
       "      <td>20913.500000</td>\n",
       "      <td>6.000000</td>\n",
       "      <td>2.800000</td>\n",
       "      <td>4.000000</td>\n",
       "      <td>1.000000</td>\n",
       "      <td>1.000000</td>\n",
       "      <td>1.000000</td>\n",
       "    </tr>\n",
       "    <tr>\n",
       "      <th>75%</th>\n",
       "      <td>26717.316636</td>\n",
       "      <td>25213.000000</td>\n",
       "      <td>6.000000</td>\n",
       "      <td>3.800000</td>\n",
       "      <td>4.000000</td>\n",
       "      <td>1.000000</td>\n",
       "      <td>1.000000</td>\n",
       "      <td>1.000000</td>\n",
       "    </tr>\n",
       "    <tr>\n",
       "      <th>max</th>\n",
       "      <td>70755.466717</td>\n",
       "      <td>50387.000000</td>\n",
       "      <td>8.000000</td>\n",
       "      <td>6.000000</td>\n",
       "      <td>4.000000</td>\n",
       "      <td>1.000000</td>\n",
       "      <td>1.000000</td>\n",
       "      <td>1.000000</td>\n",
       "    </tr>\n",
       "  </tbody>\n",
       "</table>\n",
       "</div>"
      ],
      "text/plain": [
       "              Price       Mileage    Cylinder       Liter       Doors  \\\n",
       "count    804.000000    804.000000  804.000000  804.000000  804.000000   \n",
       "mean   21343.143767  19831.934080    5.268657    3.037313    3.527363   \n",
       "std     9884.852801   8196.319707    1.387531    1.105562    0.850169   \n",
       "min     8638.930895    266.000000    4.000000    1.600000    2.000000   \n",
       "25%    14273.073870  14623.500000    4.000000    2.200000    4.000000   \n",
       "50%    18024.995019  20913.500000    6.000000    2.800000    4.000000   \n",
       "75%    26717.316636  25213.000000    6.000000    3.800000    4.000000   \n",
       "max    70755.466717  50387.000000    8.000000    6.000000    4.000000   \n",
       "\n",
       "           Cruise       Sound     Leather  \n",
       "count  804.000000  804.000000  804.000000  \n",
       "mean     0.752488    0.679104    0.723881  \n",
       "std      0.431836    0.467111    0.447355  \n",
       "min      0.000000    0.000000    0.000000  \n",
       "25%      1.000000    0.000000    0.000000  \n",
       "50%      1.000000    1.000000    1.000000  \n",
       "75%      1.000000    1.000000    1.000000  \n",
       "max      1.000000    1.000000    1.000000  "
      ]
     },
     "execution_count": 5,
     "metadata": {},
     "output_type": "execute_result"
    }
   ],
   "source": [
    "df.describe()"
   ]
  },
  {
   "cell_type": "code",
   "execution_count": 6,
   "metadata": {},
   "outputs": [
    {
     "name": "stderr",
     "output_type": "stream",
     "text": [
      "<ipython-input-6-f90812c99787>:4: FutureWarning: Automatic reindexing on DataFrame vs Series comparisons is deprecated and will raise ValueError in a future version.  Do `left, right = left.align(right, axis=1, copy=False)` before e.g. `left == right`\n",
      "  ((df < (Q1 - 1.5 * IQR)) | (df > (Q3 + 1.5 * IQR))).sum()\n",
      "<ipython-input-6-f90812c99787>:4: FutureWarning: Automatic reindexing on DataFrame vs Series comparisons is deprecated and will raise ValueError in a future version.  Do `left, right = left.align(right, axis=1, copy=False)` before e.g. `left == right`\n",
      "  ((df < (Q1 - 1.5 * IQR)) | (df > (Q3 + 1.5 * IQR))).sum()\n"
     ]
    },
    {
     "data": {
      "text/plain": [
       "Cruise      199\n",
       "Cylinder      0\n",
       "Doors       190\n",
       "Leather       0\n",
       "Liter         0\n",
       "Make          0\n",
       "Mileage       5\n",
       "Model         0\n",
       "Price        17\n",
       "Sound         0\n",
       "Trim          0\n",
       "Type          0\n",
       "dtype: int64"
      ]
     },
     "execution_count": 6,
     "metadata": {},
     "output_type": "execute_result"
    }
   ],
   "source": [
    "Q1 = df.quantile(0.25)\n",
    "Q3 = df.quantile(0.75)\n",
    "IQR = Q3 - Q1\n",
    "((df < (Q1 - 1.5 * IQR)) | (df > (Q3 + 1.5 * IQR))).sum()"
   ]
  },
  {
   "cell_type": "code",
   "execution_count": 7,
   "metadata": {},
   "outputs": [
    {
     "data": {
      "image/png": "[encoded data removed]",
      "text/plain": [
       "<Figure size 432x288 with 1 Axes>"
      ]
     },
     "metadata": {
      "needs_background": "light"
     },
     "output_type": "display_data"
    }
   ],
   "source": [
    "df = pd.DataFrame(data = df, columns = ['Mileage','Price'])\n",
    "sns.boxplot(x=\"variable\", y=\"value\",data=pd.melt(df))\n",
    "plt.show()"
   ]
  },
  {
   "cell_type": "markdown",
   "metadata": {},
   "source": [
    "As the outliers present in 'Price' and 'Mileage' represent natural variations they should be retained in the dataset. These are called true outliers."
   ]
  },
  {
   "cell_type": "code",
   "execution_count": 8,
   "metadata": {},
   "outputs": [
    {
     "data": {
      "image/png": "[encoded data removed]",
      "text/plain": [
       "<Figure size 432x288 with 1 Axes>"
      ]
     },
     "metadata": {
      "needs_background": "light"
     },
     "output_type": "display_data"
    }
   ],
   "source": [
    "df.plot(x='Mileage', y='Price', style =\"o\",color='green',alpha=0.5)\n",
    "plt.ylabel('Mileage')\n",
    "plt.xlabel('Price')\n",
    "plt.title('Mileage vs Price')\n",
    "plt.show()"
   ]
  },
  {
   "cell_type": "code",
   "execution_count": 11,
   "metadata": {
    "scrolled": true
   },
   "outputs": [
    {
     "data": {
      "text/html": [
       "<div>\n",
       "<style scoped>\n",
       "    .dataframe tbody tr th:only-of-type {\n",
       "        vertical-align: middle;\n",
       "    }\n",
       "\n",
       "    .dataframe tbody tr th {\n",
       "        vertical-align: top;\n",
       "    }\n",
       "\n",
       "    .dataframe thead th {\n",
       "        text-align: right;\n",
       "    }\n",
       "</style>\n",
       "<table border=\"1\" class=\"dataframe\">\n",
       "  <thead>\n",
       "    <tr style=\"text-align: right;\">\n",
       "      <th></th>\n",
       "      <th>Mileage</th>\n",
       "      <th>Price</th>\n",
       "    </tr>\n",
       "  </thead>\n",
       "  <tbody>\n",
       "    <tr>\n",
       "      <th>Mileage</th>\n",
       "      <td>1.000000</td>\n",
       "      <td>-0.143051</td>\n",
       "    </tr>\n",
       "    <tr>\n",
       "      <th>Price</th>\n",
       "      <td>-0.143051</td>\n",
       "      <td>1.000000</td>\n",
       "    </tr>\n",
       "  </tbody>\n",
       "</table>\n",
       "</div>"
      ],
      "text/plain": [
       "          Mileage     Price\n",
       "Mileage  1.000000 -0.143051\n",
       "Price   -0.143051  1.000000"
      ]
     },
     "execution_count": 11,
     "metadata": {},
     "output_type": "execute_result"
    }
   ],
   "source": [
    "df[['Mileage','Price']].corr()"
   ]
  },
  {
   "cell_type": "markdown",
   "metadata": {},
   "source": [
    "Correlation value of -0.143 means no linear relationship exists between Mileage and Price"
   ]
  },
  {
   "cell_type": "markdown",
   "metadata": {},
   "source": [
    "## Tasks, Part 1"
   ]
  },
  {
   "cell_type": "markdown",
   "metadata": {},
   "source": [
    "### 1. Find the linear regression equation for mileage vs price."
   ]
  },
  {
   "cell_type": "code",
   "execution_count": 12,
   "metadata": {},
   "outputs": [
    {
     "data": {
      "text/plain": [
       "LinearRegression()"
      ]
     },
     "execution_count": 12,
     "metadata": {},
     "output_type": "execute_result"
    }
   ],
   "source": [
    "X = df[['Mileage']].values\n",
    "y = df['Price'].values\n",
    "\n",
    "X_train,X_test,y_train,y_test = train_test_split(X,y,test_size=0.30,random_state=20)\n",
    "\n",
    "regressor = LinearRegression()\n",
    "regressor.fit(X_train,y_train)"
   ]
  },
  {
   "cell_type": "code",
   "execution_count": 15,
   "metadata": {},
   "outputs": [
    {
     "name": "stdout",
     "output_type": "stream",
     "text": [
      "Linear Regression equation : y = -0.120 x + 23701.613\n"
     ]
    }
   ],
   "source": [
    "print(\"Linear Regression equation : y = {:.3f} x + {:.3f}\".format(regressor.coef_[0],regressor.intercept_))"
   ]
  },
  {
   "cell_type": "markdown",
   "metadata": {},
   "source": [
    "### 2 .Chart the original data and the equation on the chart."
   ]
  },
  {
   "cell_type": "code",
   "execution_count": 16,
   "metadata": {},
   "outputs": [
    {
     "data": {
      "image/png": "[encoded data removed]",
      "text/plain": [
       "<Figure size 432x288 with 1 Axes>"
      ]
     },
     "metadata": {
      "needs_background": "light"
     },
     "output_type": "display_data"
    }
   ],
   "source": [
    "df.plot(x='Mileage', y='Price', style =\"o\",color='green',alpha=0.5)\n",
    "plt.plot(X, regressor.predict(X), color ='orange')\n",
    "plt.ylabel('Mileage')\n",
    "plt.xlabel('Price')\n",
    "plt.title('Mileage vs Price')\n",
    "plt.show()"
   ]
  },
  {
   "cell_type": "markdown",
   "metadata": {},
   "source": [
    "### 3. Find the equation's  𝑅2  score (use the .score method) to determine whether the equation is a good fit for this data. (0.8 and greater is considered a strong correlation.)"
   ]
  },
  {
   "cell_type": "code",
   "execution_count": 17,
   "metadata": {},
   "outputs": [
    {
     "name": "stdout",
     "output_type": "stream",
     "text": [
      "R² Score : 0.039431449593484214\n"
     ]
    }
   ],
   "source": [
    "y_predict = regressor.predict(X_test)\n",
    "print(\"R² Score :\", r2_score(y_test,y_predict))"
   ]
  },
  {
   "cell_type": "markdown",
   "metadata": {},
   "source": [
    "Mileage feature has very low R² score = 0.03943 This means that it has no direct influence on Price."
   ]
  },
  {
   "cell_type": "markdown",
   "metadata": {},
   "source": [
    "## Tasks, Part 2"
   ]
  },
  {
   "cell_type": "markdown",
   "metadata": {},
   "source": [
    "### 1. Use mileage, cylinders, liters, doors, cruise, sound, and leather to find the linear regression equation.\n",
    "\n"
   ]
  },
  {
   "cell_type": "code",
   "execution_count": 18,
   "metadata": {},
   "outputs": [],
   "source": [
    "df = pd.read_csv(\"car_data.csv\")"
   ]
  },
  {
   "cell_type": "code",
   "execution_count": 19,
   "metadata": {},
   "outputs": [],
   "source": [
    "feature = ['Mileage','Cylinder','Liter', 'Doors', 'Cruise', 'Sound', 'Leather']\n",
    "\n",
    "X = df[feature]\n",
    "y = df['Price']\n",
    "\n",
    "X_train,X_test,y_train,y_test = train_test_split(X,y,test_size=0.30,random_state=20)"
   ]
  },
  {
   "cell_type": "code",
   "execution_count": 20,
   "metadata": {},
   "outputs": [
    {
     "data": {
      "text/plain": [
       "LinearRegression()"
      ]
     },
     "execution_count": 20,
     "metadata": {},
     "output_type": "execute_result"
    }
   ],
   "source": [
    "scaler = StandardScaler()\n",
    "scaler.fit(X_train)\n",
    "X_train = scaler.transform(X_train)\n",
    "X_test = scaler.transform(X_test)\n",
    "\n",
    "regressor = LinearRegression()\n",
    "regressor.fit(X_train,y_train)"
   ]
  },
  {
   "cell_type": "code",
   "execution_count": 21,
   "metadata": {},
   "outputs": [
    {
     "name": "stdout",
     "output_type": "stream",
     "text": [
      "Linear Regression equation : y = -1083.519 x1 + 5844.050 x2+ -1171.721 x3 + -1381.197 x4 + 2553.492 x5 + -895.066 x6 + 1252.059 x7 + 21304.203\n"
     ]
    }
   ],
   "source": [
    "print(\"Linear Regression equation : y = {:.3f} x1 + {:.3f} x2+ {:.3f} x3 + {:.3f} x4 + {:.3f} x5 + {:.3f} x6 + {:.3f} x7 + {:.3f}\".format(regressor.coef_[0],regressor.coef_[1],regressor.coef_[2],regressor.coef_[3],regressor.coef_[4],regressor.coef_[5],regressor.coef_[6],regressor.intercept_))"
   ]
  },
  {
   "cell_type": "markdown",
   "metadata": {},
   "source": [
    "Price = 21304.203 -1083.519 Mileage + 5844.050 Cylinder -1171.721 Liter - 1381.197 Doors + 2553.492 Cruise -895.066 Sound + 1252.059 Leather"
   ]
  },
  {
   "cell_type": "markdown",
   "metadata": {},
   "source": [
    "### 2. Find the equation's  𝑅2  score (use the .score method) to determine whether the equation is a good fit for this data. (0.8 and greater is considered a strong correlation.)"
   ]
  },
  {
   "cell_type": "code",
   "execution_count": 22,
   "metadata": {},
   "outputs": [
    {
     "name": "stdout",
     "output_type": "stream",
     "text": [
      "R² Score : 0.4362250031593877\n"
     ]
    }
   ],
   "source": [
    "y_predict = regressor.predict(X_test)\n",
    "print(\"R² Score :\", r2_score(y_test,y_predict))"
   ]
  },
  {
   "cell_type": "markdown",
   "metadata": {},
   "source": [
    "R² score = 0.43622 which is not sufficient to be a good fit for this data."
   ]
  },
  {
   "cell_type": "markdown",
   "metadata": {},
   "source": [
    "### 3. Find the combination of the factors that is the best predictor for price."
   ]
  },
  {
   "cell_type": "code",
   "execution_count": 23,
   "metadata": {},
   "outputs": [
    {
     "name": "stdout",
     "output_type": "stream",
     "text": [
      "R^2 score for equation using all columns: 0.446264353672838\n"
     ]
    }
   ],
   "source": [
    "def r2_scr(feature, df, Cost='Price'):\n",
    "    in_put = df[feature]\n",
    "    out_put = df[Cost]\n",
    "    regressor = LinearRegression()\n",
    "    regressor.fit(in_put,out_put)\n",
    "    return regressor.score(in_put,out_put)\n",
    "print('R^2 score for equation using all columns: {}'.format(r2_scr(feature,df)))"
   ]
  },
  {
   "cell_type": "code",
   "execution_count": 24,
   "metadata": {},
   "outputs": [],
   "source": [
    "import itertools as it \n",
    "\n",
    "#itertools.combinations() module is used to print all possible combinations\n",
    "def get_combo(cols):\n",
    "    return [it.combinations(cols, n + 1) for n in range(len(cols))]\n",
    "\n",
    "combos = get_combo(feature)"
   ]
  },
  {
   "cell_type": "code",
   "execution_count": 25,
   "metadata": {},
   "outputs": [],
   "source": [
    "def all_combo_scores(combos, df, focus='Price'):\n",
    "    combo_scores = {}\n",
    "    for m in range(len(list(combos))):\n",
    "        for n in list(combos[m]):\n",
    "            combo_scores[r2_scr(list(n), df, focus)] = n\n",
    "    return combo_scores"
   ]
  },
  {
   "cell_type": "code",
   "execution_count": 26,
   "metadata": {},
   "outputs": [
    {
     "data": {
      "text/plain": [
       "[(0.446264353672838,\n",
       "  ('Mileage', 'Cylinder', 'Liter', 'Doors', 'Cruise', 'Sound', 'Leather')),\n",
       " (0.44569092105870245,\n",
       "  ('Mileage', 'Cylinder', 'Doors', 'Cruise', 'Sound', 'Leather')),\n",
       " (0.437805741536638,\n",
       "  ('Mileage', 'Cylinder', 'Liter', 'Doors', 'Cruise', 'Leather')),\n",
       " (0.4369402151237246, ('Mileage', 'Cylinder', 'Doors', 'Cruise', 'Leather')),\n",
       " (0.43014148406475605,\n",
       "  ('Mileage', 'Cylinder', 'Liter', 'Cruise', 'Sound', 'Leather')),\n",
       " (0.43001820483252684, ('Mileage', 'Cylinder', 'Cruise', 'Sound', 'Leather')),\n",
       " (0.4265348637809261,\n",
       "  ('Cylinder', 'Liter', 'Doors', 'Cruise', 'Sound', 'Leather')),\n",
       " (0.4257681327974422, ('Cylinder', 'Doors', 'Cruise', 'Sound', 'Leather')),\n",
       " (0.42482840454267856,\n",
       "  ('Mileage', 'Liter', 'Doors', 'Cruise', 'Sound', 'Leather')),\n",
       " (0.42441824017998775,\n",
       "  ('Mileage', 'Cylinder', 'Liter', 'Doors', 'Cruise', 'Sound')),\n",
       " (0.42409748258510405, ('Mileage', 'Cylinder', 'Doors', 'Cruise', 'Sound')),\n",
       " (0.4225307670398466, ('Mileage', 'Cylinder', 'Liter', 'Cruise', 'Leather')),\n",
       " (0.4225074214774762, ('Mileage', 'Cylinder', 'Cruise', 'Leather')),\n",
       " (0.4196580477703242, ('Mileage', 'Cylinder', 'Liter', 'Doors', 'Cruise')),\n",
       " (0.41914964510731756, ('Mileage', 'Cylinder', 'Doors', 'Cruise')),\n",
       " (0.4188394218057132, ('Cylinder', 'Liter', 'Doors', 'Cruise', 'Leather')),\n",
       " (0.417760273701972, ('Cylinder', 'Doors', 'Cruise', 'Leather')),\n",
       " (0.41650804904235117, ('Mileage', 'Liter', 'Cruise', 'Sound', 'Leather')),\n",
       " (0.4140092231630349, ('Mileage', 'Liter', 'Doors', 'Cruise', 'Leather')),\n",
       " (0.4107029526441046, ('Cylinder', 'Liter', 'Cruise', 'Sound', 'Leather')),\n",
       " (0.4106549415858882, ('Cylinder', 'Cruise', 'Sound', 'Leather')),\n",
       " (0.40678789687026895, ('Mileage', 'Liter', 'Cruise', 'Leather')),\n",
       " (0.40654915865835206, ('Mileage', 'Cylinder', 'Liter', 'Cruise', 'Sound')),\n",
       " (0.4061644982625815, ('Mileage', 'Cylinder', 'Cruise', 'Sound')),\n",
       " (0.4050927515057854, ('Cylinder', 'Liter', 'Doors', 'Cruise', 'Sound')),\n",
       " (0.40462307098659855, ('Cylinder', 'Doors', 'Cruise', 'Sound')),\n",
       " (0.40380376425767606, ('Cylinder', 'Liter', 'Cruise', 'Leather')),\n",
       " (0.40380272693971564, ('Cylinder', 'Cruise', 'Leather')),\n",
       " (0.40346337208358085, ('Liter', 'Doors', 'Cruise', 'Sound', 'Leather')),\n",
       " (0.4031213170211536, ('Mileage', 'Liter', 'Doors', 'Cruise', 'Sound')),\n",
       " (0.4025842618924307, ('Mileage', 'Cylinder', 'Liter', 'Cruise')),\n",
       " (0.4023745860316019, ('Mileage', 'Cylinder', 'Cruise')),\n",
       " (0.4008748693270304, ('Cylinder', 'Liter', 'Doors', 'Cruise')),\n",
       " (0.4001989079545567, ('Cylinder', 'Doors', 'Cruise')),\n",
       " (0.39653266980131807, ('Mileage', 'Liter', 'Doors', 'Cruise')),\n",
       " (0.39564260736568424, ('Liter', 'Cruise', 'Sound', 'Leather')),\n",
       " (0.39346849142215845, ('Mileage', 'Liter', 'Cruise', 'Sound')),\n",
       " (0.39345887351036213, ('Liter', 'Doors', 'Cruise', 'Leather')),\n",
       " (0.38792398390551586, ('Mileage', 'Liter', 'Cruise')),\n",
       " (0.3875431216736017, ('Cylinder', 'Liter', 'Cruise', 'Sound')),\n",
       " (0.3873058022296456, ('Cylinder', 'Cruise', 'Sound')),\n",
       " (0.38665505937731115, ('Liter', 'Cruise', 'Leather')),\n",
       " (0.3840622008524506, ('Cylinder', 'Liter', 'Cruise')),\n",
       " (0.3839491324027342, ('Cylinder', 'Cruise')),\n",
       " (0.3827150450021579,\n",
       "  ('Mileage', 'Cylinder', 'Liter', 'Doors', 'Sound', 'Leather')),\n",
       " (0.38258521179336924, ('Mileage', 'Cylinder', 'Doors', 'Sound', 'Leather')),\n",
       " (0.3821808777658823, ('Liter', 'Doors', 'Cruise', 'Sound')),\n",
       " (0.3761916805347969, ('Liter', 'Doors', 'Cruise')),\n",
       " (0.3730745596141458, ('Liter', 'Cruise', 'Sound')),\n",
       " (0.37136690890240676, ('Mileage', 'Cylinder', 'Liter', 'Doors', 'Leather')),\n",
       " (0.37133199838451947, ('Mileage', 'Cylinder', 'Doors', 'Leather')),\n",
       " (0.3680458490296844, ('Liter', 'Cruise')),\n",
       " (0.36771522262682865, ('Mileage', 'Cylinder', 'Liter', 'Doors', 'Sound')),\n",
       " (0.3674991296973681, ('Mileage', 'Cylinder', 'Doors', 'Sound')),\n",
       " (0.365294232839972, ('Mileage', 'Cylinder', 'Liter', 'Sound', 'Leather')),\n",
       " (0.36516944395094464, ('Cylinder', 'Liter', 'Doors', 'Sound', 'Leather')),\n",
       " (0.36511700356207033, ('Cylinder', 'Doors', 'Sound', 'Leather')),\n",
       " (0.36329101174690714, ('Mileage', 'Liter', 'Doors', 'Sound', 'Leather')),\n",
       " (0.3627841037859246, ('Mileage', 'Cylinder', 'Sound', 'Leather')),\n",
       " (0.3601250633027092, ('Mileage', 'Cylinder', 'Liter', 'Doors')),\n",
       " (0.3600299189649303, ('Mileage', 'Cylinder', 'Doors')),\n",
       " (0.354940443055751, ('Mileage', 'Cylinder', 'Liter', 'Leather')),\n",
       " (0.354706889409253, ('Cylinder', 'Liter', 'Doors', 'Leather')),\n",
       " (0.3547026130008998, ('Cylinder', 'Doors', 'Leather')),\n",
       " (0.35363153818528126, ('Mileage', 'Liter', 'Sound', 'Leather')),\n",
       " (0.35303578931823953, ('Mileage', 'Cylinder', 'Leather')),\n",
       " (0.35038121816111223, ('Cylinder', 'Liter', 'Doors', 'Sound')),\n",
       " (0.3502699330133767, ('Cylinder', 'Doors', 'Sound')),\n",
       " (0.34940517971815865, ('Mileage', 'Liter', 'Doors', 'Leather')),\n",
       " (0.34885465224422074, ('Mileage', 'Cylinder', 'Liter', 'Sound')),\n",
       " (0.34830222786670784, ('Mileage', 'Liter', 'Doors', 'Sound')),\n",
       " (0.34805583937456297, ('Cylinder', 'Liter', 'Sound', 'Leather')),\n",
       " (0.345985332754168, ('Cylinder', 'Sound', 'Leather')),\n",
       " (0.34579303945195394, ('Mileage', 'Cylinder', 'Sound')),\n",
       " (0.3442397580756411, ('Liter', 'Doors', 'Sound', 'Leather')),\n",
       " (0.3434954780689595, ('Cylinder', 'Liter', 'Doors')),\n",
       " (0.343460536583038, ('Cylinder', 'Doors')),\n",
       " (0.34228021178720824, ('Mileage', 'Cylinder', 'Liter')),\n",
       " (0.34105691618639966, ('Mileage', 'Liter', 'Leather')),\n",
       " (0.33982070826367505, ('Mileage', 'Cylinder')),\n",
       " (0.33859102766485805, ('Mileage', 'Liter', 'Doors')),\n",
       " (0.33853269361625415, ('Cylinder', 'Liter', 'Leather')),\n",
       " (0.3375252452641956, ('Mileage', 'Liter', 'Sound')),\n",
       " (0.33698000644980597, ('Cylinder', 'Leather')),\n",
       " (0.3351140707646345, ('Liter', 'Sound', 'Leather')),\n",
       " (0.3318486045315714, ('Cylinder', 'Liter', 'Sound')),\n",
       " (0.3312844538529036, ('Liter', 'Doors', 'Leather')),\n",
       " (0.32947196699054004, ('Liter', 'Doors', 'Sound')),\n",
       " (0.32927527347959384, ('Cylinder', 'Sound')),\n",
       " (0.3291279066854156, ('Mileage', 'Liter')),\n",
       " (0.3259155160156657, ('Cylinder', 'Liter')),\n",
       " (0.32385903759512247, ('Cylinder',)),\n",
       " (0.32337917189904186, ('Liter', 'Leather')),\n",
       " (0.3205156407766834, ('Liter', 'Doors')),\n",
       " (0.31926427639502886, ('Liter', 'Sound')),\n",
       " (0.31152674427904514, ('Liter',)),\n",
       " (0.27282594767567814, ('Mileage', 'Doors', 'Cruise', 'Sound', 'Leather')),\n",
       " (0.2594013856567562, ('Mileage', 'Cruise', 'Sound', 'Leather')),\n",
       " (0.2566547812611919, ('Mileage', 'Doors', 'Cruise', 'Leather')),\n",
       " (0.2474491349580753, ('Doors', 'Cruise', 'Sound', 'Leather')),\n",
       " (0.24484643441472975, ('Mileage', 'Cruise', 'Leather')),\n",
       " (0.23464406340531807, ('Cruise', 'Sound', 'Leather')),\n",
       " (0.23336920288580454, ('Mileage', 'Doors', 'Cruise', 'Sound')),\n",
       " (0.23229120295179528, ('Doors', 'Cruise', 'Leather')),\n",
       " (0.2239031407636466, ('Mileage', 'Doors', 'Cruise')),\n",
       " (0.2210042052179847, ('Cruise', 'Leather')),\n",
       " (0.21721656906779274, ('Mileage', 'Cruise', 'Sound')),\n",
       " (0.2093138558315859, ('Mileage', 'Cruise')),\n",
       " (0.2083536888853531, ('Doors', 'Cruise', 'Sound')),\n",
       " (0.1996382468921617, ('Doors', 'Cruise')),\n",
       " (0.19288948066869627, ('Cruise', 'Sound')),\n",
       " (0.1856330092969275, ('Cruise',)),\n",
       " (0.08933709379370725, ('Mileage', 'Doors', 'Sound', 'Leather')),\n",
       " (0.06965940622436517, ('Mileage', 'Sound', 'Leather')),\n",
       " (0.06687313316188848, ('Doors', 'Sound', 'Leather')),\n",
       " (0.06256392121987708, ('Mileage', 'Doors', 'Leather')),\n",
       " (0.05925054392042661, ('Mileage', 'Doors', 'Sound')),\n",
       " (0.04795369092082746, ('Sound', 'Leather')),\n",
       " (0.04521956340886857, ('Mileage', 'Leather')),\n",
       " (0.04141817346866039, ('Doors', 'Leather')),\n",
       " (0.04039914867118721, ('Mileage', 'Doors')),\n",
       " (0.0370162877090342, ('Doors', 'Sound')),\n",
       " (0.036881215967350056, ('Mileage', 'Sound')),\n",
       " (0.024710851264124534, ('Leather',)),\n",
       " (0.02046344732348926, ('Mileage',)),\n",
       " (0.019251466591467037, ('Doors',)),\n",
       " (0.015462387624189389, ('Sound',))]"
      ]
     },
     "execution_count": 26,
     "metadata": {},
     "output_type": "execute_result"
    }
   ],
   "source": [
    "combo_scores = all_combo_scores(combos, df)\n",
    "sorted(combo_scores.items(), key=lambda c: c[0], reverse=True)"
   ]
  },
  {
   "cell_type": "code",
   "execution_count": 27,
   "metadata": {},
   "outputs": [
    {
     "data": {
      "text/html": [
       "<div>\n",
       "<style scoped>\n",
       "    .dataframe tbody tr th:only-of-type {\n",
       "        vertical-align: middle;\n",
       "    }\n",
       "\n",
       "    .dataframe tbody tr th {\n",
       "        vertical-align: top;\n",
       "    }\n",
       "\n",
       "    .dataframe thead th {\n",
       "        text-align: right;\n",
       "    }\n",
       "</style>\n",
       "<table border=\"1\" class=\"dataframe\">\n",
       "  <thead>\n",
       "    <tr style=\"text-align: right;\">\n",
       "      <th></th>\n",
       "      <th>Actual</th>\n",
       "      <th>Predicted</th>\n",
       "    </tr>\n",
       "  </thead>\n",
       "  <tbody>\n",
       "    <tr>\n",
       "      <th>1</th>\n",
       "      <td>17542.036083</td>\n",
       "      <td>23719.500795</td>\n",
       "    </tr>\n",
       "    <tr>\n",
       "      <th>7</th>\n",
       "      <td>15048.042184</td>\n",
       "      <td>21883.975545</td>\n",
       "    </tr>\n",
       "    <tr>\n",
       "      <th>8</th>\n",
       "      <td>14862.093870</td>\n",
       "      <td>26467.105320</td>\n",
       "    </tr>\n",
       "    <tr>\n",
       "      <th>9</th>\n",
       "      <td>15295.018267</td>\n",
       "      <td>24123.829209</td>\n",
       "    </tr>\n",
       "    <tr>\n",
       "      <th>10</th>\n",
       "      <td>21335.852485</td>\n",
       "      <td>24946.539919</td>\n",
       "    </tr>\n",
       "    <tr>\n",
       "      <th>...</th>\n",
       "      <td>...</td>\n",
       "      <td>...</td>\n",
       "    </tr>\n",
       "    <tr>\n",
       "      <th>781</th>\n",
       "      <td>12119.089702</td>\n",
       "      <td>13362.553119</td>\n",
       "    </tr>\n",
       "    <tr>\n",
       "      <th>782</th>\n",
       "      <td>11679.923546</td>\n",
       "      <td>10469.268925</td>\n",
       "    </tr>\n",
       "    <tr>\n",
       "      <th>787</th>\n",
       "      <td>12105.981336</td>\n",
       "      <td>7912.828192</td>\n",
       "    </tr>\n",
       "    <tr>\n",
       "      <th>799</th>\n",
       "      <td>16507.070267</td>\n",
       "      <td>24788.934391</td>\n",
       "    </tr>\n",
       "    <tr>\n",
       "      <th>803</th>\n",
       "      <td>13585.636802</td>\n",
       "      <td>22209.589379</td>\n",
       "    </tr>\n",
       "  </tbody>\n",
       "</table>\n",
       "<p>242 rows × 2 columns</p>\n",
       "</div>"
      ],
      "text/plain": [
       "           Actual     Predicted\n",
       "1    17542.036083  23719.500795\n",
       "7    15048.042184  21883.975545\n",
       "8    14862.093870  26467.105320\n",
       "9    15295.018267  24123.829209\n",
       "10   21335.852485  24946.539919\n",
       "..            ...           ...\n",
       "781  12119.089702  13362.553119\n",
       "782  11679.923546  10469.268925\n",
       "787  12105.981336   7912.828192\n",
       "799  16507.070267  24788.934391\n",
       "803  13585.636802  22209.589379\n",
       "\n",
       "[242 rows x 2 columns]"
      ]
     },
     "execution_count": 27,
     "metadata": {},
     "output_type": "execute_result"
    }
   ],
   "source": [
    "df_Prediction = pd.DataFrame({'Actual':y_test,'Predicted':y_predict})\n",
    "df_Prediction.sort_index(axis = 0)"
   ]
  },
  {
   "cell_type": "markdown",
   "metadata": {},
   "source": [
    "- From the above score combinations, the maximum R² score = 0.4462 is generated based on all the selected features. ('Mileage', 'Cylinder', 'Liter', 'Doors', 'Cruise', 'Sound', 'Leather')\n",
    "- R² score is not sufficient to produce a strong relation.\n",
    "- Further there is a huge variation between actual and predicted price values"
   ]
  },
  {
   "cell_type": "markdown",
   "metadata": {},
   "source": [
    "## Tasks, Hard Mode"
   ]
  },
  {
   "cell_type": "markdown",
   "metadata": {},
   "source": [
    "### 1. Research dummy variables in scikit-learn to see how to use the make, model, and body type.\n"
   ]
  },
  {
   "cell_type": "code",
   "execution_count": 31,
   "metadata": {},
   "outputs": [],
   "source": [
    "df = pd.read_csv(\"car_data.csv\")"
   ]
  },
  {
   "cell_type": "code",
   "execution_count": 32,
   "metadata": {},
   "outputs": [
    {
     "data": {
      "text/html": [
       "<div>\n",
       "<style scoped>\n",
       "    .dataframe tbody tr th:only-of-type {\n",
       "        vertical-align: middle;\n",
       "    }\n",
       "\n",
       "    .dataframe tbody tr th {\n",
       "        vertical-align: top;\n",
       "    }\n",
       "\n",
       "    .dataframe thead th {\n",
       "        text-align: right;\n",
       "    }\n",
       "</style>\n",
       "<table border=\"1\" class=\"dataframe\">\n",
       "  <thead>\n",
       "    <tr style=\"text-align: right;\">\n",
       "      <th></th>\n",
       "      <th>Make_Buick</th>\n",
       "      <th>Make_Cadillac</th>\n",
       "      <th>Make_Chevrolet</th>\n",
       "      <th>Make_Pontiac</th>\n",
       "      <th>Make_SAAB</th>\n",
       "      <th>Make_Saturn</th>\n",
       "      <th>Model_9-2X AWD</th>\n",
       "      <th>Model_9_3</th>\n",
       "      <th>Model_9_3 HO</th>\n",
       "      <th>Model_9_5</th>\n",
       "      <th>...</th>\n",
       "      <th>Model_STS-V6</th>\n",
       "      <th>Model_STS-V8</th>\n",
       "      <th>Model_Sunfire</th>\n",
       "      <th>Model_Vibe</th>\n",
       "      <th>Model_XLR-V8</th>\n",
       "      <th>Type_Convertible</th>\n",
       "      <th>Type_Coupe</th>\n",
       "      <th>Type_Hatchback</th>\n",
       "      <th>Type_Sedan</th>\n",
       "      <th>Type_Wagon</th>\n",
       "    </tr>\n",
       "  </thead>\n",
       "  <tbody>\n",
       "    <tr>\n",
       "      <th>0</th>\n",
       "      <td>1</td>\n",
       "      <td>0</td>\n",
       "      <td>0</td>\n",
       "      <td>0</td>\n",
       "      <td>0</td>\n",
       "      <td>0</td>\n",
       "      <td>0</td>\n",
       "      <td>0</td>\n",
       "      <td>0</td>\n",
       "      <td>0</td>\n",
       "      <td>...</td>\n",
       "      <td>0</td>\n",
       "      <td>0</td>\n",
       "      <td>0</td>\n",
       "      <td>0</td>\n",
       "      <td>0</td>\n",
       "      <td>0</td>\n",
       "      <td>0</td>\n",
       "      <td>0</td>\n",
       "      <td>1</td>\n",
       "      <td>0</td>\n",
       "    </tr>\n",
       "    <tr>\n",
       "      <th>1</th>\n",
       "      <td>1</td>\n",
       "      <td>0</td>\n",
       "      <td>0</td>\n",
       "      <td>0</td>\n",
       "      <td>0</td>\n",
       "      <td>0</td>\n",
       "      <td>0</td>\n",
       "      <td>0</td>\n",
       "      <td>0</td>\n",
       "      <td>0</td>\n",
       "      <td>...</td>\n",
       "      <td>0</td>\n",
       "      <td>0</td>\n",
       "      <td>0</td>\n",
       "      <td>0</td>\n",
       "      <td>0</td>\n",
       "      <td>0</td>\n",
       "      <td>0</td>\n",
       "      <td>0</td>\n",
       "      <td>1</td>\n",
       "      <td>0</td>\n",
       "    </tr>\n",
       "    <tr>\n",
       "      <th>2</th>\n",
       "      <td>1</td>\n",
       "      <td>0</td>\n",
       "      <td>0</td>\n",
       "      <td>0</td>\n",
       "      <td>0</td>\n",
       "      <td>0</td>\n",
       "      <td>0</td>\n",
       "      <td>0</td>\n",
       "      <td>0</td>\n",
       "      <td>0</td>\n",
       "      <td>...</td>\n",
       "      <td>0</td>\n",
       "      <td>0</td>\n",
       "      <td>0</td>\n",
       "      <td>0</td>\n",
       "      <td>0</td>\n",
       "      <td>0</td>\n",
       "      <td>0</td>\n",
       "      <td>0</td>\n",
       "      <td>1</td>\n",
       "      <td>0</td>\n",
       "    </tr>\n",
       "    <tr>\n",
       "      <th>3</th>\n",
       "      <td>1</td>\n",
       "      <td>0</td>\n",
       "      <td>0</td>\n",
       "      <td>0</td>\n",
       "      <td>0</td>\n",
       "      <td>0</td>\n",
       "      <td>0</td>\n",
       "      <td>0</td>\n",
       "      <td>0</td>\n",
       "      <td>0</td>\n",
       "      <td>...</td>\n",
       "      <td>0</td>\n",
       "      <td>0</td>\n",
       "      <td>0</td>\n",
       "      <td>0</td>\n",
       "      <td>0</td>\n",
       "      <td>0</td>\n",
       "      <td>0</td>\n",
       "      <td>0</td>\n",
       "      <td>1</td>\n",
       "      <td>0</td>\n",
       "    </tr>\n",
       "    <tr>\n",
       "      <th>4</th>\n",
       "      <td>1</td>\n",
       "      <td>0</td>\n",
       "      <td>0</td>\n",
       "      <td>0</td>\n",
       "      <td>0</td>\n",
       "      <td>0</td>\n",
       "      <td>0</td>\n",
       "      <td>0</td>\n",
       "      <td>0</td>\n",
       "      <td>0</td>\n",
       "      <td>...</td>\n",
       "      <td>0</td>\n",
       "      <td>0</td>\n",
       "      <td>0</td>\n",
       "      <td>0</td>\n",
       "      <td>0</td>\n",
       "      <td>0</td>\n",
       "      <td>0</td>\n",
       "      <td>0</td>\n",
       "      <td>1</td>\n",
       "      <td>0</td>\n",
       "    </tr>\n",
       "    <tr>\n",
       "      <th>...</th>\n",
       "      <td>...</td>\n",
       "      <td>...</td>\n",
       "      <td>...</td>\n",
       "      <td>...</td>\n",
       "      <td>...</td>\n",
       "      <td>...</td>\n",
       "      <td>...</td>\n",
       "      <td>...</td>\n",
       "      <td>...</td>\n",
       "      <td>...</td>\n",
       "      <td>...</td>\n",
       "      <td>...</td>\n",
       "      <td>...</td>\n",
       "      <td>...</td>\n",
       "      <td>...</td>\n",
       "      <td>...</td>\n",
       "      <td>...</td>\n",
       "      <td>...</td>\n",
       "      <td>...</td>\n",
       "      <td>...</td>\n",
       "      <td>...</td>\n",
       "    </tr>\n",
       "    <tr>\n",
       "      <th>799</th>\n",
       "      <td>0</td>\n",
       "      <td>0</td>\n",
       "      <td>0</td>\n",
       "      <td>0</td>\n",
       "      <td>0</td>\n",
       "      <td>1</td>\n",
       "      <td>0</td>\n",
       "      <td>0</td>\n",
       "      <td>0</td>\n",
       "      <td>0</td>\n",
       "      <td>...</td>\n",
       "      <td>0</td>\n",
       "      <td>0</td>\n",
       "      <td>0</td>\n",
       "      <td>0</td>\n",
       "      <td>0</td>\n",
       "      <td>0</td>\n",
       "      <td>0</td>\n",
       "      <td>0</td>\n",
       "      <td>1</td>\n",
       "      <td>0</td>\n",
       "    </tr>\n",
       "    <tr>\n",
       "      <th>800</th>\n",
       "      <td>0</td>\n",
       "      <td>0</td>\n",
       "      <td>0</td>\n",
       "      <td>0</td>\n",
       "      <td>0</td>\n",
       "      <td>1</td>\n",
       "      <td>0</td>\n",
       "      <td>0</td>\n",
       "      <td>0</td>\n",
       "      <td>0</td>\n",
       "      <td>...</td>\n",
       "      <td>0</td>\n",
       "      <td>0</td>\n",
       "      <td>0</td>\n",
       "      <td>0</td>\n",
       "      <td>0</td>\n",
       "      <td>0</td>\n",
       "      <td>0</td>\n",
       "      <td>0</td>\n",
       "      <td>1</td>\n",
       "      <td>0</td>\n",
       "    </tr>\n",
       "    <tr>\n",
       "      <th>801</th>\n",
       "      <td>0</td>\n",
       "      <td>0</td>\n",
       "      <td>0</td>\n",
       "      <td>0</td>\n",
       "      <td>0</td>\n",
       "      <td>1</td>\n",
       "      <td>0</td>\n",
       "      <td>0</td>\n",
       "      <td>0</td>\n",
       "      <td>0</td>\n",
       "      <td>...</td>\n",
       "      <td>0</td>\n",
       "      <td>0</td>\n",
       "      <td>0</td>\n",
       "      <td>0</td>\n",
       "      <td>0</td>\n",
       "      <td>0</td>\n",
       "      <td>0</td>\n",
       "      <td>0</td>\n",
       "      <td>1</td>\n",
       "      <td>0</td>\n",
       "    </tr>\n",
       "    <tr>\n",
       "      <th>802</th>\n",
       "      <td>0</td>\n",
       "      <td>0</td>\n",
       "      <td>0</td>\n",
       "      <td>0</td>\n",
       "      <td>0</td>\n",
       "      <td>1</td>\n",
       "      <td>0</td>\n",
       "      <td>0</td>\n",
       "      <td>0</td>\n",
       "      <td>0</td>\n",
       "      <td>...</td>\n",
       "      <td>0</td>\n",
       "      <td>0</td>\n",
       "      <td>0</td>\n",
       "      <td>0</td>\n",
       "      <td>0</td>\n",
       "      <td>0</td>\n",
       "      <td>0</td>\n",
       "      <td>0</td>\n",
       "      <td>1</td>\n",
       "      <td>0</td>\n",
       "    </tr>\n",
       "    <tr>\n",
       "      <th>803</th>\n",
       "      <td>0</td>\n",
       "      <td>0</td>\n",
       "      <td>0</td>\n",
       "      <td>0</td>\n",
       "      <td>0</td>\n",
       "      <td>1</td>\n",
       "      <td>0</td>\n",
       "      <td>0</td>\n",
       "      <td>0</td>\n",
       "      <td>0</td>\n",
       "      <td>...</td>\n",
       "      <td>0</td>\n",
       "      <td>0</td>\n",
       "      <td>0</td>\n",
       "      <td>0</td>\n",
       "      <td>0</td>\n",
       "      <td>0</td>\n",
       "      <td>0</td>\n",
       "      <td>0</td>\n",
       "      <td>1</td>\n",
       "      <td>0</td>\n",
       "    </tr>\n",
       "  </tbody>\n",
       "</table>\n",
       "<p>804 rows × 43 columns</p>\n",
       "</div>"
      ],
      "text/plain": [
       "     Make_Buick  Make_Cadillac  Make_Chevrolet  Make_Pontiac  Make_SAAB  \\\n",
       "0             1              0               0             0          0   \n",
       "1             1              0               0             0          0   \n",
       "2             1              0               0             0          0   \n",
       "3             1              0               0             0          0   \n",
       "4             1              0               0             0          0   \n",
       "..          ...            ...             ...           ...        ...   \n",
       "799           0              0               0             0          0   \n",
       "800           0              0               0             0          0   \n",
       "801           0              0               0             0          0   \n",
       "802           0              0               0             0          0   \n",
       "803           0              0               0             0          0   \n",
       "\n",
       "     Make_Saturn  Model_9-2X AWD  Model_9_3  Model_9_3 HO  Model_9_5  ...  \\\n",
       "0              0               0          0             0          0  ...   \n",
       "1              0               0          0             0          0  ...   \n",
       "2              0               0          0             0          0  ...   \n",
       "3              0               0          0             0          0  ...   \n",
       "4              0               0          0             0          0  ...   \n",
       "..           ...             ...        ...           ...        ...  ...   \n",
       "799            1               0          0             0          0  ...   \n",
       "800            1               0          0             0          0  ...   \n",
       "801            1               0          0             0          0  ...   \n",
       "802            1               0          0             0          0  ...   \n",
       "803            1               0          0             0          0  ...   \n",
       "\n",
       "     Model_STS-V6  Model_STS-V8  Model_Sunfire  Model_Vibe  Model_XLR-V8  \\\n",
       "0               0             0              0           0             0   \n",
       "1               0             0              0           0             0   \n",
       "2               0             0              0           0             0   \n",
       "3               0             0              0           0             0   \n",
       "4               0             0              0           0             0   \n",
       "..            ...           ...            ...         ...           ...   \n",
       "799             0             0              0           0             0   \n",
       "800             0             0              0           0             0   \n",
       "801             0             0              0           0             0   \n",
       "802             0             0              0           0             0   \n",
       "803             0             0              0           0             0   \n",
       "\n",
       "     Type_Convertible  Type_Coupe  Type_Hatchback  Type_Sedan  Type_Wagon  \n",
       "0                   0           0               0           1           0  \n",
       "1                   0           0               0           1           0  \n",
       "2                   0           0               0           1           0  \n",
       "3                   0           0               0           1           0  \n",
       "4                   0           0               0           1           0  \n",
       "..                ...         ...             ...         ...         ...  \n",
       "799                 0           0               0           1           0  \n",
       "800                 0           0               0           1           0  \n",
       "801                 0           0               0           1           0  \n",
       "802                 0           0               0           1           0  \n",
       "803                 0           0               0           1           0  \n",
       "\n",
       "[804 rows x 43 columns]"
      ]
     },
     "execution_count": 32,
     "metadata": {},
     "output_type": "execute_result"
    }
   ],
   "source": [
    "df_dum = pd.get_dummies(df[['Make','Model','Type']])\n",
    "df_dum"
   ]
  },
  {
   "cell_type": "code",
   "execution_count": 33,
   "metadata": {},
   "outputs": [
    {
     "data": {
      "text/plain": [
       "LinearRegression()"
      ]
     },
     "execution_count": 33,
     "metadata": {},
     "output_type": "execute_result"
    }
   ],
   "source": [
    "X = df_dum\n",
    "y = df[\"Price\"]\n",
    "\n",
    "X_train,X_test,y_train,y_test = train_test_split(X,y,test_size=0.30,random_state=200)\n",
    "\n",
    "regressor = LinearRegression()\n",
    "regressor.fit(X_train,y_train)"
   ]
  },
  {
   "cell_type": "code",
   "execution_count": 34,
   "metadata": {},
   "outputs": [
    {
     "name": "stdout",
     "output_type": "stream",
     "text": [
      "R² Score : 0.9409417785822343\n"
     ]
    }
   ],
   "source": [
    "from sklearn.metrics import r2_score\n",
    "\n",
    "y_predict = regressor.predict(X_test)\n",
    "print(\"R² Score :\", r2_score(y_test,y_predict))"
   ]
  },
  {
   "cell_type": "markdown",
   "metadata": {},
   "source": [
    "Since R² Score = 0.94094 . The features Make, Model and type does fit in predicting the price"
   ]
  },
  {
   "cell_type": "markdown",
   "metadata": {},
   "source": [
    "### 2. Find the best combination of factors to predict price."
   ]
  },
  {
   "cell_type": "code",
   "execution_count": 35,
   "metadata": {},
   "outputs": [],
   "source": [
    "df = pd.read_csv(\"car_data.csv\")\n",
    "to_encode = ['Make','Model','Type']"
   ]
  },
  {
   "cell_type": "code",
   "execution_count": 36,
   "metadata": {},
   "outputs": [
    {
     "name": "stdout",
     "output_type": "stream",
     "text": [
      "[['Mileage'], ['Cylinder'], ['Mileage', 'Cylinder'], ['Liter'], ['Mileage', 'Liter'], ['Cylinder', 'Liter'], ['Mileage', 'Cylinder', 'Liter'], ['Doors'], ['Mileage', 'Doors'], ['Cylinder', 'Doors'], ['Mileage', 'Cylinder', 'Doors'], ['Liter', 'Doors'], ['Mileage', 'Liter', 'Doors'], ['Cylinder', 'Liter', 'Doors'], ['Mileage', 'Cylinder', 'Liter', 'Doors'], ['Cruise'], ['Mileage', 'Cruise'], ['Cylinder', 'Cruise'], ['Mileage', 'Cylinder', 'Cruise'], ['Liter', 'Cruise'], ['Mileage', 'Liter', 'Cruise'], ['Cylinder', 'Liter', 'Cruise'], ['Mileage', 'Cylinder', 'Liter', 'Cruise'], ['Doors', 'Cruise'], ['Mileage', 'Doors', 'Cruise'], ['Cylinder', 'Doors', 'Cruise'], ['Mileage', 'Cylinder', 'Doors', 'Cruise'], ['Liter', 'Doors', 'Cruise'], ['Mileage', 'Liter', 'Doors', 'Cruise'], ['Cylinder', 'Liter', 'Doors', 'Cruise'], ['Mileage', 'Cylinder', 'Liter', 'Doors', 'Cruise'], ['Sound'], ['Mileage', 'Sound'], ['Cylinder', 'Sound'], ['Mileage', 'Cylinder', 'Sound'], ['Liter', 'Sound'], ['Mileage', 'Liter', 'Sound'], ['Cylinder', 'Liter', 'Sound'], ['Mileage', 'Cylinder', 'Liter', 'Sound'], ['Doors', 'Sound'], ['Mileage', 'Doors', 'Sound'], ['Cylinder', 'Doors', 'Sound'], ['Mileage', 'Cylinder', 'Doors', 'Sound'], ['Liter', 'Doors', 'Sound'], ['Mileage', 'Liter', 'Doors', 'Sound'], ['Cylinder', 'Liter', 'Doors', 'Sound'], ['Mileage', 'Cylinder', 'Liter', 'Doors', 'Sound'], ['Cruise', 'Sound'], ['Mileage', 'Cruise', 'Sound'], ['Cylinder', 'Cruise', 'Sound'], ['Mileage', 'Cylinder', 'Cruise', 'Sound'], ['Liter', 'Cruise', 'Sound'], ['Mileage', 'Liter', 'Cruise', 'Sound'], ['Cylinder', 'Liter', 'Cruise', 'Sound'], ['Mileage', 'Cylinder', 'Liter', 'Cruise', 'Sound'], ['Doors', 'Cruise', 'Sound'], ['Mileage', 'Doors', 'Cruise', 'Sound'], ['Cylinder', 'Doors', 'Cruise', 'Sound'], ['Mileage', 'Cylinder', 'Doors', 'Cruise', 'Sound'], ['Liter', 'Doors', 'Cruise', 'Sound'], ['Mileage', 'Liter', 'Doors', 'Cruise', 'Sound'], ['Cylinder', 'Liter', 'Doors', 'Cruise', 'Sound'], ['Mileage', 'Cylinder', 'Liter', 'Doors', 'Cruise', 'Sound'], ['Leather'], ['Mileage', 'Leather'], ['Cylinder', 'Leather'], ['Mileage', 'Cylinder', 'Leather'], ['Liter', 'Leather'], ['Mileage', 'Liter', 'Leather'], ['Cylinder', 'Liter', 'Leather'], ['Mileage', 'Cylinder', 'Liter', 'Leather'], ['Doors', 'Leather'], ['Mileage', 'Doors', 'Leather'], ['Cylinder', 'Doors', 'Leather'], ['Mileage', 'Cylinder', 'Doors', 'Leather'], ['Liter', 'Doors', 'Leather'], ['Mileage', 'Liter', 'Doors', 'Leather'], ['Cylinder', 'Liter', 'Doors', 'Leather'], ['Mileage', 'Cylinder', 'Liter', 'Doors', 'Leather'], ['Cruise', 'Leather'], ['Mileage', 'Cruise', 'Leather'], ['Cylinder', 'Cruise', 'Leather'], ['Mileage', 'Cylinder', 'Cruise', 'Leather'], ['Liter', 'Cruise', 'Leather'], ['Mileage', 'Liter', 'Cruise', 'Leather'], ['Cylinder', 'Liter', 'Cruise', 'Leather'], ['Mileage', 'Cylinder', 'Liter', 'Cruise', 'Leather'], ['Doors', 'Cruise', 'Leather'], ['Mileage', 'Doors', 'Cruise', 'Leather'], ['Cylinder', 'Doors', 'Cruise', 'Leather'], ['Mileage', 'Cylinder', 'Doors', 'Cruise', 'Leather'], ['Liter', 'Doors', 'Cruise', 'Leather'], ['Mileage', 'Liter', 'Doors', 'Cruise', 'Leather'], ['Cylinder', 'Liter', 'Doors', 'Cruise', 'Leather'], ['Mileage', 'Cylinder', 'Liter', 'Doors', 'Cruise', 'Leather'], ['Sound', 'Leather'], ['Mileage', 'Sound', 'Leather'], ['Cylinder', 'Sound', 'Leather'], ['Mileage', 'Cylinder', 'Sound', 'Leather'], ['Liter', 'Sound', 'Leather'], ['Mileage', 'Liter', 'Sound', 'Leather'], ['Cylinder', 'Liter', 'Sound', 'Leather'], ['Mileage', 'Cylinder', 'Liter', 'Sound', 'Leather'], ['Doors', 'Sound', 'Leather'], ['Mileage', 'Doors', 'Sound', 'Leather'], ['Cylinder', 'Doors', 'Sound', 'Leather'], ['Mileage', 'Cylinder', 'Doors', 'Sound', 'Leather'], ['Liter', 'Doors', 'Sound', 'Leather'], ['Mileage', 'Liter', 'Doors', 'Sound', 'Leather'], ['Cylinder', 'Liter', 'Doors', 'Sound', 'Leather'], ['Mileage', 'Cylinder', 'Liter', 'Doors', 'Sound', 'Leather'], ['Cruise', 'Sound', 'Leather'], ['Mileage', 'Cruise', 'Sound', 'Leather'], ['Cylinder', 'Cruise', 'Sound', 'Leather'], ['Mileage', 'Cylinder', 'Cruise', 'Sound', 'Leather'], ['Liter', 'Cruise', 'Sound', 'Leather'], ['Mileage', 'Liter', 'Cruise', 'Sound', 'Leather'], ['Cylinder', 'Liter', 'Cruise', 'Sound', 'Leather'], ['Mileage', 'Cylinder', 'Liter', 'Cruise', 'Sound', 'Leather'], ['Doors', 'Cruise', 'Sound', 'Leather'], ['Mileage', 'Doors', 'Cruise', 'Sound', 'Leather'], ['Cylinder', 'Doors', 'Cruise', 'Sound', 'Leather'], ['Mileage', 'Cylinder', 'Doors', 'Cruise', 'Sound', 'Leather'], ['Liter', 'Doors', 'Cruise', 'Sound', 'Leather'], ['Mileage', 'Liter', 'Doors', 'Cruise', 'Sound', 'Leather'], ['Cylinder', 'Liter', 'Doors', 'Cruise', 'Sound', 'Leather'], ['Mileage', 'Cylinder', 'Liter', 'Doors', 'Cruise', 'Sound', 'Leather'], ['Make'], ['Mileage', 'Make'], ['Cylinder', 'Make'], ['Mileage', 'Cylinder', 'Make'], ['Liter', 'Make'], ['Mileage', 'Liter', 'Make'], ['Cylinder', 'Liter', 'Make'], ['Mileage', 'Cylinder', 'Liter', 'Make'], ['Doors', 'Make'], ['Mileage', 'Doors', 'Make'], ['Cylinder', 'Doors', 'Make'], ['Mileage', 'Cylinder', 'Doors', 'Make'], ['Liter', 'Doors', 'Make'], ['Mileage', 'Liter', 'Doors', 'Make'], ['Cylinder', 'Liter', 'Doors', 'Make'], ['Mileage', 'Cylinder', 'Liter', 'Doors', 'Make'], ['Cruise', 'Make'], ['Mileage', 'Cruise', 'Make'], ['Cylinder', 'Cruise', 'Make'], ['Mileage', 'Cylinder', 'Cruise', 'Make'], ['Liter', 'Cruise', 'Make'], ['Mileage', 'Liter', 'Cruise', 'Make'], ['Cylinder', 'Liter', 'Cruise', 'Make'], ['Mileage', 'Cylinder', 'Liter', 'Cruise', 'Make'], ['Doors', 'Cruise', 'Make'], ['Mileage', 'Doors', 'Cruise', 'Make'], ['Cylinder', 'Doors', 'Cruise', 'Make'], ['Mileage', 'Cylinder', 'Doors', 'Cruise', 'Make'], ['Liter', 'Doors', 'Cruise', 'Make'], ['Mileage', 'Liter', 'Doors', 'Cruise', 'Make'], ['Cylinder', 'Liter', 'Doors', 'Cruise', 'Make'], ['Mileage', 'Cylinder', 'Liter', 'Doors', 'Cruise', 'Make'], ['Sound', 'Make'], ['Mileage', 'Sound', 'Make'], ['Cylinder', 'Sound', 'Make'], ['Mileage', 'Cylinder', 'Sound', 'Make'], ['Liter', 'Sound', 'Make'], ['Mileage', 'Liter', 'Sound', 'Make'], ['Cylinder', 'Liter', 'Sound', 'Make'], ['Mileage', 'Cylinder', 'Liter', 'Sound', 'Make'], ['Doors', 'Sound', 'Make'], ['Mileage', 'Doors', 'Sound', 'Make'], ['Cylinder', 'Doors', 'Sound', 'Make'], ['Mileage', 'Cylinder', 'Doors', 'Sound', 'Make'], ['Liter', 'Doors', 'Sound', 'Make'], ['Mileage', 'Liter', 'Doors', 'Sound', 'Make'], ['Cylinder', 'Liter', 'Doors', 'Sound', 'Make'], ['Mileage', 'Cylinder', 'Liter', 'Doors', 'Sound', 'Make'], ['Cruise', 'Sound', 'Make'], ['Mileage', 'Cruise', 'Sound', 'Make'], ['Cylinder', 'Cruise', 'Sound', 'Make'], ['Mileage', 'Cylinder', 'Cruise', 'Sound', 'Make'], ['Liter', 'Cruise', 'Sound', 'Make'], ['Mileage', 'Liter', 'Cruise', 'Sound', 'Make'], ['Cylinder', 'Liter', 'Cruise', 'Sound', 'Make'], ['Mileage', 'Cylinder', 'Liter', 'Cruise', 'Sound', 'Make'], ['Doors', 'Cruise', 'Sound', 'Make'], ['Mileage', 'Doors', 'Cruise', 'Sound', 'Make'], ['Cylinder', 'Doors', 'Cruise', 'Sound', 'Make'], ['Mileage', 'Cylinder', 'Doors', 'Cruise', 'Sound', 'Make'], ['Liter', 'Doors', 'Cruise', 'Sound', 'Make'], ['Mileage', 'Liter', 'Doors', 'Cruise', 'Sound', 'Make'], ['Cylinder', 'Liter', 'Doors', 'Cruise', 'Sound', 'Make'], ['Mileage', 'Cylinder', 'Liter', 'Doors', 'Cruise', 'Sound', 'Make'], ['Leather', 'Make'], ['Mileage', 'Leather', 'Make'], ['Cylinder', 'Leather', 'Make'], ['Mileage', 'Cylinder', 'Leather', 'Make'], ['Liter', 'Leather', 'Make'], ['Mileage', 'Liter', 'Leather', 'Make'], ['Cylinder', 'Liter', 'Leather', 'Make'], ['Mileage', 'Cylinder', 'Liter', 'Leather', 'Make'], ['Doors', 'Leather', 'Make'], ['Mileage', 'Doors', 'Leather', 'Make'], ['Cylinder', 'Doors', 'Leather', 'Make'], ['Mileage', 'Cylinder', 'Doors', 'Leather', 'Make'], ['Liter', 'Doors', 'Leather', 'Make'], ['Mileage', 'Liter', 'Doors', 'Leather', 'Make'], ['Cylinder', 'Liter', 'Doors', 'Leather', 'Make'], ['Mileage', 'Cylinder', 'Liter', 'Doors', 'Leather', 'Make'], ['Cruise', 'Leather', 'Make'], ['Mileage', 'Cruise', 'Leather', 'Make'], ['Cylinder', 'Cruise', 'Leather', 'Make'], ['Mileage', 'Cylinder', 'Cruise', 'Leather', 'Make'], ['Liter', 'Cruise', 'Leather', 'Make'], ['Mileage', 'Liter', 'Cruise', 'Leather', 'Make'], ['Cylinder', 'Liter', 'Cruise', 'Leather', 'Make'], ['Mileage', 'Cylinder', 'Liter', 'Cruise', 'Leather', 'Make'], ['Doors', 'Cruise', 'Leather', 'Make'], ['Mileage', 'Doors', 'Cruise', 'Leather', 'Make'], ['Cylinder', 'Doors', 'Cruise', 'Leather', 'Make'], ['Mileage', 'Cylinder', 'Doors', 'Cruise', 'Leather', 'Make'], ['Liter', 'Doors', 'Cruise', 'Leather', 'Make'], ['Mileage', 'Liter', 'Doors', 'Cruise', 'Leather', 'Make'], ['Cylinder', 'Liter', 'Doors', 'Cruise', 'Leather', 'Make'], ['Mileage', 'Cylinder', 'Liter', 'Doors', 'Cruise', 'Leather', 'Make'], ['Sound', 'Leather', 'Make'], ['Mileage', 'Sound', 'Leather', 'Make'], ['Cylinder', 'Sound', 'Leather', 'Make'], ['Mileage', 'Cylinder', 'Sound', 'Leather', 'Make'], ['Liter', 'Sound', 'Leather', 'Make'], ['Mileage', 'Liter', 'Sound', 'Leather', 'Make'], ['Cylinder', 'Liter', 'Sound', 'Leather', 'Make'], ['Mileage', 'Cylinder', 'Liter', 'Sound', 'Leather', 'Make'], ['Doors', 'Sound', 'Leather', 'Make'], ['Mileage', 'Doors', 'Sound', 'Leather', 'Make'], ['Cylinder', 'Doors', 'Sound', 'Leather', 'Make'], ['Mileage', 'Cylinder', 'Doors', 'Sound', 'Leather', 'Make'], ['Liter', 'Doors', 'Sound', 'Leather', 'Make'], ['Mileage', 'Liter', 'Doors', 'Sound', 'Leather', 'Make'], ['Cylinder', 'Liter', 'Doors', 'Sound', 'Leather', 'Make'], ['Mileage', 'Cylinder', 'Liter', 'Doors', 'Sound', 'Leather', 'Make'], ['Cruise', 'Sound', 'Leather', 'Make'], ['Mileage', 'Cruise', 'Sound', 'Leather', 'Make'], ['Cylinder', 'Cruise', 'Sound', 'Leather', 'Make'], ['Mileage', 'Cylinder', 'Cruise', 'Sound', 'Leather', 'Make'], ['Liter', 'Cruise', 'Sound', 'Leather', 'Make'], ['Mileage', 'Liter', 'Cruise', 'Sound', 'Leather', 'Make'], ['Cylinder', 'Liter', 'Cruise', 'Sound', 'Leather', 'Make'], ['Mileage', 'Cylinder', 'Liter', 'Cruise', 'Sound', 'Leather', 'Make'], ['Doors', 'Cruise', 'Sound', 'Leather', 'Make'], ['Mileage', 'Doors', 'Cruise', 'Sound', 'Leather', 'Make'], ['Cylinder', 'Doors', 'Cruise', 'Sound', 'Leather', 'Make'], ['Mileage', 'Cylinder', 'Doors', 'Cruise', 'Sound', 'Leather', 'Make'], ['Liter', 'Doors', 'Cruise', 'Sound', 'Leather', 'Make'], ['Mileage', 'Liter', 'Doors', 'Cruise', 'Sound', 'Leather', 'Make'], ['Cylinder', 'Liter', 'Doors', 'Cruise', 'Sound', 'Leather', 'Make'], ['Mileage', 'Cylinder', 'Liter', 'Doors', 'Cruise', 'Sound', 'Leather', 'Make'], ['Model'], ['Mileage', 'Model'], ['Cylinder', 'Model'], ['Mileage', 'Cylinder', 'Model'], ['Liter', 'Model'], ['Mileage', 'Liter', 'Model'], ['Cylinder', 'Liter', 'Model'], ['Mileage', 'Cylinder', 'Liter', 'Model'], ['Doors', 'Model'], ['Mileage', 'Doors', 'Model'], ['Cylinder', 'Doors', 'Model'], ['Mileage', 'Cylinder', 'Doors', 'Model'], ['Liter', 'Doors', 'Model'], ['Mileage', 'Liter', 'Doors', 'Model'], ['Cylinder', 'Liter', 'Doors', 'Model'], ['Mileage', 'Cylinder', 'Liter', 'Doors', 'Model'], ['Cruise', 'Model'], ['Mileage', 'Cruise', 'Model'], ['Cylinder', 'Cruise', 'Model'], ['Mileage', 'Cylinder', 'Cruise', 'Model'], ['Liter', 'Cruise', 'Model'], ['Mileage', 'Liter', 'Cruise', 'Model'], ['Cylinder', 'Liter', 'Cruise', 'Model'], ['Mileage', 'Cylinder', 'Liter', 'Cruise', 'Model'], ['Doors', 'Cruise', 'Model'], ['Mileage', 'Doors', 'Cruise', 'Model'], ['Cylinder', 'Doors', 'Cruise', 'Model'], ['Mileage', 'Cylinder', 'Doors', 'Cruise', 'Model'], ['Liter', 'Doors', 'Cruise', 'Model'], ['Mileage', 'Liter', 'Doors', 'Cruise', 'Model'], ['Cylinder', 'Liter', 'Doors', 'Cruise', 'Model'], ['Mileage', 'Cylinder', 'Liter', 'Doors', 'Cruise', 'Model'], ['Sound', 'Model'], ['Mileage', 'Sound', 'Model'], ['Cylinder', 'Sound', 'Model'], ['Mileage', 'Cylinder', 'Sound', 'Model'], ['Liter', 'Sound', 'Model'], ['Mileage', 'Liter', 'Sound', 'Model'], ['Cylinder', 'Liter', 'Sound', 'Model'], ['Mileage', 'Cylinder', 'Liter', 'Sound', 'Model'], ['Doors', 'Sound', 'Model'], ['Mileage', 'Doors', 'Sound', 'Model'], ['Cylinder', 'Doors', 'Sound', 'Model'], ['Mileage', 'Cylinder', 'Doors', 'Sound', 'Model'], ['Liter', 'Doors', 'Sound', 'Model'], ['Mileage', 'Liter', 'Doors', 'Sound', 'Model'], ['Cylinder', 'Liter', 'Doors', 'Sound', 'Model'], ['Mileage', 'Cylinder', 'Liter', 'Doors', 'Sound', 'Model'], ['Cruise', 'Sound', 'Model'], ['Mileage', 'Cruise', 'Sound', 'Model'], ['Cylinder', 'Cruise', 'Sound', 'Model'], ['Mileage', 'Cylinder', 'Cruise', 'Sound', 'Model'], ['Liter', 'Cruise', 'Sound', 'Model'], ['Mileage', 'Liter', 'Cruise', 'Sound', 'Model'], ['Cylinder', 'Liter', 'Cruise', 'Sound', 'Model'], ['Mileage', 'Cylinder', 'Liter', 'Cruise', 'Sound', 'Model'], ['Doors', 'Cruise', 'Sound', 'Model'], ['Mileage', 'Doors', 'Cruise', 'Sound', 'Model'], ['Cylinder', 'Doors', 'Cruise', 'Sound', 'Model'], ['Mileage', 'Cylinder', 'Doors', 'Cruise', 'Sound', 'Model'], ['Liter', 'Doors', 'Cruise', 'Sound', 'Model'], ['Mileage', 'Liter', 'Doors', 'Cruise', 'Sound', 'Model'], ['Cylinder', 'Liter', 'Doors', 'Cruise', 'Sound', 'Model'], ['Mileage', 'Cylinder', 'Liter', 'Doors', 'Cruise', 'Sound', 'Model'], ['Leather', 'Model'], ['Mileage', 'Leather', 'Model'], ['Cylinder', 'Leather', 'Model'], ['Mileage', 'Cylinder', 'Leather', 'Model'], ['Liter', 'Leather', 'Model'], ['Mileage', 'Liter', 'Leather', 'Model'], ['Cylinder', 'Liter', 'Leather', 'Model'], ['Mileage', 'Cylinder', 'Liter', 'Leather', 'Model'], ['Doors', 'Leather', 'Model'], ['Mileage', 'Doors', 'Leather', 'Model'], ['Cylinder', 'Doors', 'Leather', 'Model'], ['Mileage', 'Cylinder', 'Doors', 'Leather', 'Model'], ['Liter', 'Doors', 'Leather', 'Model'], ['Mileage', 'Liter', 'Doors', 'Leather', 'Model'], ['Cylinder', 'Liter', 'Doors', 'Leather', 'Model'], ['Mileage', 'Cylinder', 'Liter', 'Doors', 'Leather', 'Model'], ['Cruise', 'Leather', 'Model'], ['Mileage', 'Cruise', 'Leather', 'Model'], ['Cylinder', 'Cruise', 'Leather', 'Model'], ['Mileage', 'Cylinder', 'Cruise', 'Leather', 'Model'], ['Liter', 'Cruise', 'Leather', 'Model'], ['Mileage', 'Liter', 'Cruise', 'Leather', 'Model'], ['Cylinder', 'Liter', 'Cruise', 'Leather', 'Model'], ['Mileage', 'Cylinder', 'Liter', 'Cruise', 'Leather', 'Model'], ['Doors', 'Cruise', 'Leather', 'Model'], ['Mileage', 'Doors', 'Cruise', 'Leather', 'Model'], ['Cylinder', 'Doors', 'Cruise', 'Leather', 'Model'], ['Mileage', 'Cylinder', 'Doors', 'Cruise', 'Leather', 'Model'], ['Liter', 'Doors', 'Cruise', 'Leather', 'Model'], ['Mileage', 'Liter', 'Doors', 'Cruise', 'Leather', 'Model'], ['Cylinder', 'Liter', 'Doors', 'Cruise', 'Leather', 'Model'], ['Mileage', 'Cylinder', 'Liter', 'Doors', 'Cruise', 'Leather', 'Model'], ['Sound', 'Leather', 'Model'], ['Mileage', 'Sound', 'Leather', 'Model'], ['Cylinder', 'Sound', 'Leather', 'Model'], ['Mileage', 'Cylinder', 'Sound', 'Leather', 'Model'], ['Liter', 'Sound', 'Leather', 'Model'], ['Mileage', 'Liter', 'Sound', 'Leather', 'Model'], ['Cylinder', 'Liter', 'Sound', 'Leather', 'Model'], ['Mileage', 'Cylinder', 'Liter', 'Sound', 'Leather', 'Model'], ['Doors', 'Sound', 'Leather', 'Model'], ['Mileage', 'Doors', 'Sound', 'Leather', 'Model'], ['Cylinder', 'Doors', 'Sound', 'Leather', 'Model'], ['Mileage', 'Cylinder', 'Doors', 'Sound', 'Leather', 'Model'], ['Liter', 'Doors', 'Sound', 'Leather', 'Model'], ['Mileage', 'Liter', 'Doors', 'Sound', 'Leather', 'Model'], ['Cylinder', 'Liter', 'Doors', 'Sound', 'Leather', 'Model'], ['Mileage', 'Cylinder', 'Liter', 'Doors', 'Sound', 'Leather', 'Model'], ['Cruise', 'Sound', 'Leather', 'Model'], ['Mileage', 'Cruise', 'Sound', 'Leather', 'Model'], ['Cylinder', 'Cruise', 'Sound', 'Leather', 'Model'], ['Mileage', 'Cylinder', 'Cruise', 'Sound', 'Leather', 'Model'], ['Liter', 'Cruise', 'Sound', 'Leather', 'Model'], ['Mileage', 'Liter', 'Cruise', 'Sound', 'Leather', 'Model'], ['Cylinder', 'Liter', 'Cruise', 'Sound', 'Leather', 'Model'], ['Mileage', 'Cylinder', 'Liter', 'Cruise', 'Sound', 'Leather', 'Model'], ['Doors', 'Cruise', 'Sound', 'Leather', 'Model'], ['Mileage', 'Doors', 'Cruise', 'Sound', 'Leather', 'Model'], ['Cylinder', 'Doors', 'Cruise', 'Sound', 'Leather', 'Model'], ['Mileage', 'Cylinder', 'Doors', 'Cruise', 'Sound', 'Leather', 'Model'], ['Liter', 'Doors', 'Cruise', 'Sound', 'Leather', 'Model'], ['Mileage', 'Liter', 'Doors', 'Cruise', 'Sound', 'Leather', 'Model'], ['Cylinder', 'Liter', 'Doors', 'Cruise', 'Sound', 'Leather', 'Model'], ['Mileage', 'Cylinder', 'Liter', 'Doors', 'Cruise', 'Sound', 'Leather', 'Model'], ['Make', 'Model'], ['Mileage', 'Make', 'Model'], ['Cylinder', 'Make', 'Model'], ['Mileage', 'Cylinder', 'Make', 'Model'], ['Liter', 'Make', 'Model'], ['Mileage', 'Liter', 'Make', 'Model'], ['Cylinder', 'Liter', 'Make', 'Model'], ['Mileage', 'Cylinder', 'Liter', 'Make', 'Model'], ['Doors', 'Make', 'Model'], ['Mileage', 'Doors', 'Make', 'Model'], ['Cylinder', 'Doors', 'Make', 'Model'], ['Mileage', 'Cylinder', 'Doors', 'Make', 'Model'], ['Liter', 'Doors', 'Make', 'Model'], ['Mileage', 'Liter', 'Doors', 'Make', 'Model'], ['Cylinder', 'Liter', 'Doors', 'Make', 'Model'], ['Mileage', 'Cylinder', 'Liter', 'Doors', 'Make', 'Model'], ['Cruise', 'Make', 'Model'], ['Mileage', 'Cruise', 'Make', 'Model'], ['Cylinder', 'Cruise', 'Make', 'Model'], ['Mileage', 'Cylinder', 'Cruise', 'Make', 'Model'], ['Liter', 'Cruise', 'Make', 'Model'], ['Mileage', 'Liter', 'Cruise', 'Make', 'Model'], ['Cylinder', 'Liter', 'Cruise', 'Make', 'Model'], ['Mileage', 'Cylinder', 'Liter', 'Cruise', 'Make', 'Model'], ['Doors', 'Cruise', 'Make', 'Model'], ['Mileage', 'Doors', 'Cruise', 'Make', 'Model'], ['Cylinder', 'Doors', 'Cruise', 'Make', 'Model'], ['Mileage', 'Cylinder', 'Doors', 'Cruise', 'Make', 'Model'], ['Liter', 'Doors', 'Cruise', 'Make', 'Model'], ['Mileage', 'Liter', 'Doors', 'Cruise', 'Make', 'Model'], ['Cylinder', 'Liter', 'Doors', 'Cruise', 'Make', 'Model'], ['Mileage', 'Cylinder', 'Liter', 'Doors', 'Cruise', 'Make', 'Model'], ['Sound', 'Make', 'Model'], ['Mileage', 'Sound', 'Make', 'Model'], ['Cylinder', 'Sound', 'Make', 'Model'], ['Mileage', 'Cylinder', 'Sound', 'Make', 'Model'], ['Liter', 'Sound', 'Make', 'Model'], ['Mileage', 'Liter', 'Sound', 'Make', 'Model'], ['Cylinder', 'Liter', 'Sound', 'Make', 'Model'], ['Mileage', 'Cylinder', 'Liter', 'Sound', 'Make', 'Model'], ['Doors', 'Sound', 'Make', 'Model'], ['Mileage', 'Doors', 'Sound', 'Make', 'Model'], ['Cylinder', 'Doors', 'Sound', 'Make', 'Model'], ['Mileage', 'Cylinder', 'Doors', 'Sound', 'Make', 'Model'], ['Liter', 'Doors', 'Sound', 'Make', 'Model'], ['Mileage', 'Liter', 'Doors', 'Sound', 'Make', 'Model'], ['Cylinder', 'Liter', 'Doors', 'Sound', 'Make', 'Model'], ['Mileage', 'Cylinder', 'Liter', 'Doors', 'Sound', 'Make', 'Model'], ['Cruise', 'Sound', 'Make', 'Model'], ['Mileage', 'Cruise', 'Sound', 'Make', 'Model'], ['Cylinder', 'Cruise', 'Sound', 'Make', 'Model'], ['Mileage', 'Cylinder', 'Cruise', 'Sound', 'Make', 'Model'], ['Liter', 'Cruise', 'Sound', 'Make', 'Model'], ['Mileage', 'Liter', 'Cruise', 'Sound', 'Make', 'Model'], ['Cylinder', 'Liter', 'Cruise', 'Sound', 'Make', 'Model'], ['Mileage', 'Cylinder', 'Liter', 'Cruise', 'Sound', 'Make', 'Model'], ['Doors', 'Cruise', 'Sound', 'Make', 'Model'], ['Mileage', 'Doors', 'Cruise', 'Sound', 'Make', 'Model'], ['Cylinder', 'Doors', 'Cruise', 'Sound', 'Make', 'Model'], ['Mileage', 'Cylinder', 'Doors', 'Cruise', 'Sound', 'Make', 'Model'], ['Liter', 'Doors', 'Cruise', 'Sound', 'Make', 'Model'], ['Mileage', 'Liter', 'Doors', 'Cruise', 'Sound', 'Make', 'Model'], ['Cylinder', 'Liter', 'Doors', 'Cruise', 'Sound', 'Make', 'Model'], ['Mileage', 'Cylinder', 'Liter', 'Doors', 'Cruise', 'Sound', 'Make', 'Model'], ['Leather', 'Make', 'Model'], ['Mileage', 'Leather', 'Make', 'Model'], ['Cylinder', 'Leather', 'Make', 'Model'], ['Mileage', 'Cylinder', 'Leather', 'Make', 'Model'], ['Liter', 'Leather', 'Make', 'Model'], ['Mileage', 'Liter', 'Leather', 'Make', 'Model'], ['Cylinder', 'Liter', 'Leather', 'Make', 'Model'], ['Mileage', 'Cylinder', 'Liter', 'Leather', 'Make', 'Model'], ['Doors', 'Leather', 'Make', 'Model'], ['Mileage', 'Doors', 'Leather', 'Make', 'Model'], ['Cylinder', 'Doors', 'Leather', 'Make', 'Model'], ['Mileage', 'Cylinder', 'Doors', 'Leather', 'Make', 'Model'], ['Liter', 'Doors', 'Leather', 'Make', 'Model'], ['Mileage', 'Liter', 'Doors', 'Leather', 'Make', 'Model'], ['Cylinder', 'Liter', 'Doors', 'Leather', 'Make', 'Model'], ['Mileage', 'Cylinder', 'Liter', 'Doors', 'Leather', 'Make', 'Model'], ['Cruise', 'Leather', 'Make', 'Model'], ['Mileage', 'Cruise', 'Leather', 'Make', 'Model'], ['Cylinder', 'Cruise', 'Leather', 'Make', 'Model'], ['Mileage', 'Cylinder', 'Cruise', 'Leather', 'Make', 'Model'], ['Liter', 'Cruise', 'Leather', 'Make', 'Model'], ['Mileage', 'Liter', 'Cruise', 'Leather', 'Make', 'Model'], ['Cylinder', 'Liter', 'Cruise', 'Leather', 'Make', 'Model'], ['Mileage', 'Cylinder', 'Liter', 'Cruise', 'Leather', 'Make', 'Model'], ['Doors', 'Cruise', 'Leather', 'Make', 'Model'], ['Mileage', 'Doors', 'Cruise', 'Leather', 'Make', 'Model'], ['Cylinder', 'Doors', 'Cruise', 'Leather', 'Make', 'Model'], ['Mileage', 'Cylinder', 'Doors', 'Cruise', 'Leather', 'Make', 'Model'], ['Liter', 'Doors', 'Cruise', 'Leather', 'Make', 'Model'], ['Mileage', 'Liter', 'Doors', 'Cruise', 'Leather', 'Make', 'Model'], ['Cylinder', 'Liter', 'Doors', 'Cruise', 'Leather', 'Make', 'Model'], ['Mileage', 'Cylinder', 'Liter', 'Doors', 'Cruise', 'Leather', 'Make', 'Model'], ['Sound', 'Leather', 'Make', 'Model'], ['Mileage', 'Sound', 'Leather', 'Make', 'Model'], ['Cylinder', 'Sound', 'Leather', 'Make', 'Model'], ['Mileage', 'Cylinder', 'Sound', 'Leather', 'Make', 'Model'], ['Liter', 'Sound', 'Leather', 'Make', 'Model'], ['Mileage', 'Liter', 'Sound', 'Leather', 'Make', 'Model'], ['Cylinder', 'Liter', 'Sound', 'Leather', 'Make', 'Model'], ['Mileage', 'Cylinder', 'Liter', 'Sound', 'Leather', 'Make', 'Model'], ['Doors', 'Sound', 'Leather', 'Make', 'Model'], ['Mileage', 'Doors', 'Sound', 'Leather', 'Make', 'Model'], ['Cylinder', 'Doors', 'Sound', 'Leather', 'Make', 'Model'], ['Mileage', 'Cylinder', 'Doors', 'Sound', 'Leather', 'Make', 'Model'], ['Liter', 'Doors', 'Sound', 'Leather', 'Make', 'Model'], ['Mileage', 'Liter', 'Doors', 'Sound', 'Leather', 'Make', 'Model'], ['Cylinder', 'Liter', 'Doors', 'Sound', 'Leather', 'Make', 'Model'], ['Mileage', 'Cylinder', 'Liter', 'Doors', 'Sound', 'Leather', 'Make', 'Model'], ['Cruise', 'Sound', 'Leather', 'Make', 'Model'], ['Mileage', 'Cruise', 'Sound', 'Leather', 'Make', 'Model'], ['Cylinder', 'Cruise', 'Sound', 'Leather', 'Make', 'Model'], ['Mileage', 'Cylinder', 'Cruise', 'Sound', 'Leather', 'Make', 'Model'], ['Liter', 'Cruise', 'Sound', 'Leather', 'Make', 'Model'], ['Mileage', 'Liter', 'Cruise', 'Sound', 'Leather', 'Make', 'Model'], ['Cylinder', 'Liter', 'Cruise', 'Sound', 'Leather', 'Make', 'Model'], ['Mileage', 'Cylinder', 'Liter', 'Cruise', 'Sound', 'Leather', 'Make', 'Model'], ['Doors', 'Cruise', 'Sound', 'Leather', 'Make', 'Model'], ['Mileage', 'Doors', 'Cruise', 'Sound', 'Leather', 'Make', 'Model'], ['Cylinder', 'Doors', 'Cruise', 'Sound', 'Leather', 'Make', 'Model'], ['Mileage', 'Cylinder', 'Doors', 'Cruise', 'Sound', 'Leather', 'Make', 'Model'], ['Liter', 'Doors', 'Cruise', 'Sound', 'Leather', 'Make', 'Model'], ['Mileage', 'Liter', 'Doors', 'Cruise', 'Sound', 'Leather', 'Make', 'Model'], ['Cylinder', 'Liter', 'Doors', 'Cruise', 'Sound', 'Leather', 'Make', 'Model'], ['Mileage', 'Cylinder', 'Liter', 'Doors', 'Cruise', 'Sound', 'Leather', 'Make', 'Model'], ['Type'], ['Mileage', 'Type'], ['Cylinder', 'Type'], ['Mileage', 'Cylinder', 'Type'], ['Liter', 'Type'], ['Mileage', 'Liter', 'Type'], ['Cylinder', 'Liter', 'Type'], ['Mileage', 'Cylinder', 'Liter', 'Type'], ['Doors', 'Type'], ['Mileage', 'Doors', 'Type'], ['Cylinder', 'Doors', 'Type'], ['Mileage', 'Cylinder', 'Doors', 'Type'], ['Liter', 'Doors', 'Type'], ['Mileage', 'Liter', 'Doors', 'Type'], ['Cylinder', 'Liter', 'Doors', 'Type'], ['Mileage', 'Cylinder', 'Liter', 'Doors', 'Type'], ['Cruise', 'Type'], ['Mileage', 'Cruise', 'Type'], ['Cylinder', 'Cruise', 'Type'], ['Mileage', 'Cylinder', 'Cruise', 'Type'], ['Liter', 'Cruise', 'Type'], ['Mileage', 'Liter', 'Cruise', 'Type'], ['Cylinder', 'Liter', 'Cruise', 'Type'], ['Mileage', 'Cylinder', 'Liter', 'Cruise', 'Type'], ['Doors', 'Cruise', 'Type'], ['Mileage', 'Doors', 'Cruise', 'Type'], ['Cylinder', 'Doors', 'Cruise', 'Type'], ['Mileage', 'Cylinder', 'Doors', 'Cruise', 'Type'], ['Liter', 'Doors', 'Cruise', 'Type'], ['Mileage', 'Liter', 'Doors', 'Cruise', 'Type'], ['Cylinder', 'Liter', 'Doors', 'Cruise', 'Type'], ['Mileage', 'Cylinder', 'Liter', 'Doors', 'Cruise', 'Type'], ['Sound', 'Type'], ['Mileage', 'Sound', 'Type'], ['Cylinder', 'Sound', 'Type'], ['Mileage', 'Cylinder', 'Sound', 'Type'], ['Liter', 'Sound', 'Type'], ['Mileage', 'Liter', 'Sound', 'Type'], ['Cylinder', 'Liter', 'Sound', 'Type'], ['Mileage', 'Cylinder', 'Liter', 'Sound', 'Type'], ['Doors', 'Sound', 'Type'], ['Mileage', 'Doors', 'Sound', 'Type'], ['Cylinder', 'Doors', 'Sound', 'Type'], ['Mileage', 'Cylinder', 'Doors', 'Sound', 'Type'], ['Liter', 'Doors', 'Sound', 'Type'], ['Mileage', 'Liter', 'Doors', 'Sound', 'Type'], ['Cylinder', 'Liter', 'Doors', 'Sound', 'Type'], ['Mileage', 'Cylinder', 'Liter', 'Doors', 'Sound', 'Type'], ['Cruise', 'Sound', 'Type'], ['Mileage', 'Cruise', 'Sound', 'Type'], ['Cylinder', 'Cruise', 'Sound', 'Type'], ['Mileage', 'Cylinder', 'Cruise', 'Sound', 'Type'], ['Liter', 'Cruise', 'Sound', 'Type'], ['Mileage', 'Liter', 'Cruise', 'Sound', 'Type'], ['Cylinder', 'Liter', 'Cruise', 'Sound', 'Type'], ['Mileage', 'Cylinder', 'Liter', 'Cruise', 'Sound', 'Type'], ['Doors', 'Cruise', 'Sound', 'Type'], ['Mileage', 'Doors', 'Cruise', 'Sound', 'Type'], ['Cylinder', 'Doors', 'Cruise', 'Sound', 'Type'], ['Mileage', 'Cylinder', 'Doors', 'Cruise', 'Sound', 'Type'], ['Liter', 'Doors', 'Cruise', 'Sound', 'Type'], ['Mileage', 'Liter', 'Doors', 'Cruise', 'Sound', 'Type'], ['Cylinder', 'Liter', 'Doors', 'Cruise', 'Sound', 'Type'], ['Mileage', 'Cylinder', 'Liter', 'Doors', 'Cruise', 'Sound', 'Type'], ['Leather', 'Type'], ['Mileage', 'Leather', 'Type'], ['Cylinder', 'Leather', 'Type'], ['Mileage', 'Cylinder', 'Leather', 'Type'], ['Liter', 'Leather', 'Type'], ['Mileage', 'Liter', 'Leather', 'Type'], ['Cylinder', 'Liter', 'Leather', 'Type'], ['Mileage', 'Cylinder', 'Liter', 'Leather', 'Type'], ['Doors', 'Leather', 'Type'], ['Mileage', 'Doors', 'Leather', 'Type'], ['Cylinder', 'Doors', 'Leather', 'Type'], ['Mileage', 'Cylinder', 'Doors', 'Leather', 'Type'], ['Liter', 'Doors', 'Leather', 'Type'], ['Mileage', 'Liter', 'Doors', 'Leather', 'Type'], ['Cylinder', 'Liter', 'Doors', 'Leather', 'Type'], ['Mileage', 'Cylinder', 'Liter', 'Doors', 'Leather', 'Type'], ['Cruise', 'Leather', 'Type'], ['Mileage', 'Cruise', 'Leather', 'Type'], ['Cylinder', 'Cruise', 'Leather', 'Type'], ['Mileage', 'Cylinder', 'Cruise', 'Leather', 'Type'], ['Liter', 'Cruise', 'Leather', 'Type'], ['Mileage', 'Liter', 'Cruise', 'Leather', 'Type'], ['Cylinder', 'Liter', 'Cruise', 'Leather', 'Type'], ['Mileage', 'Cylinder', 'Liter', 'Cruise', 'Leather', 'Type'], ['Doors', 'Cruise', 'Leather', 'Type'], ['Mileage', 'Doors', 'Cruise', 'Leather', 'Type'], ['Cylinder', 'Doors', 'Cruise', 'Leather', 'Type'], ['Mileage', 'Cylinder', 'Doors', 'Cruise', 'Leather', 'Type'], ['Liter', 'Doors', 'Cruise', 'Leather', 'Type'], ['Mileage', 'Liter', 'Doors', 'Cruise', 'Leather', 'Type'], ['Cylinder', 'Liter', 'Doors', 'Cruise', 'Leather', 'Type'], ['Mileage', 'Cylinder', 'Liter', 'Doors', 'Cruise', 'Leather', 'Type'], ['Sound', 'Leather', 'Type'], ['Mileage', 'Sound', 'Leather', 'Type'], ['Cylinder', 'Sound', 'Leather', 'Type'], ['Mileage', 'Cylinder', 'Sound', 'Leather', 'Type'], ['Liter', 'Sound', 'Leather', 'Type'], ['Mileage', 'Liter', 'Sound', 'Leather', 'Type'], ['Cylinder', 'Liter', 'Sound', 'Leather', 'Type'], ['Mileage', 'Cylinder', 'Liter', 'Sound', 'Leather', 'Type'], ['Doors', 'Sound', 'Leather', 'Type'], ['Mileage', 'Doors', 'Sound', 'Leather', 'Type'], ['Cylinder', 'Doors', 'Sound', 'Leather', 'Type'], ['Mileage', 'Cylinder', 'Doors', 'Sound', 'Leather', 'Type'], ['Liter', 'Doors', 'Sound', 'Leather', 'Type'], ['Mileage', 'Liter', 'Doors', 'Sound', 'Leather', 'Type'], ['Cylinder', 'Liter', 'Doors', 'Sound', 'Leather', 'Type'], ['Mileage', 'Cylinder', 'Liter', 'Doors', 'Sound', 'Leather', 'Type'], ['Cruise', 'Sound', 'Leather', 'Type'], ['Mileage', 'Cruise', 'Sound', 'Leather', 'Type'], ['Cylinder', 'Cruise', 'Sound', 'Leather', 'Type'], ['Mileage', 'Cylinder', 'Cruise', 'Sound', 'Leather', 'Type'], ['Liter', 'Cruise', 'Sound', 'Leather', 'Type'], ['Mileage', 'Liter', 'Cruise', 'Sound', 'Leather', 'Type'], ['Cylinder', 'Liter', 'Cruise', 'Sound', 'Leather', 'Type'], ['Mileage', 'Cylinder', 'Liter', 'Cruise', 'Sound', 'Leather', 'Type'], ['Doors', 'Cruise', 'Sound', 'Leather', 'Type'], ['Mileage', 'Doors', 'Cruise', 'Sound', 'Leather', 'Type'], ['Cylinder', 'Doors', 'Cruise', 'Sound', 'Leather', 'Type'], ['Mileage', 'Cylinder', 'Doors', 'Cruise', 'Sound', 'Leather', 'Type'], ['Liter', 'Doors', 'Cruise', 'Sound', 'Leather', 'Type'], ['Mileage', 'Liter', 'Doors', 'Cruise', 'Sound', 'Leather', 'Type'], ['Cylinder', 'Liter', 'Doors', 'Cruise', 'Sound', 'Leather', 'Type'], ['Mileage', 'Cylinder', 'Liter', 'Doors', 'Cruise', 'Sound', 'Leather', 'Type'], ['Make', 'Type'], ['Mileage', 'Make', 'Type'], ['Cylinder', 'Make', 'Type'], ['Mileage', 'Cylinder', 'Make', 'Type'], ['Liter', 'Make', 'Type'], ['Mileage', 'Liter', 'Make', 'Type'], ['Cylinder', 'Liter', 'Make', 'Type'], ['Mileage', 'Cylinder', 'Liter', 'Make', 'Type'], ['Doors', 'Make', 'Type'], ['Mileage', 'Doors', 'Make', 'Type'], ['Cylinder', 'Doors', 'Make', 'Type'], ['Mileage', 'Cylinder', 'Doors', 'Make', 'Type'], ['Liter', 'Doors', 'Make', 'Type'], ['Mileage', 'Liter', 'Doors', 'Make', 'Type'], ['Cylinder', 'Liter', 'Doors', 'Make', 'Type'], ['Mileage', 'Cylinder', 'Liter', 'Doors', 'Make', 'Type'], ['Cruise', 'Make', 'Type'], ['Mileage', 'Cruise', 'Make', 'Type'], ['Cylinder', 'Cruise', 'Make', 'Type'], ['Mileage', 'Cylinder', 'Cruise', 'Make', 'Type'], ['Liter', 'Cruise', 'Make', 'Type'], ['Mileage', 'Liter', 'Cruise', 'Make', 'Type'], ['Cylinder', 'Liter', 'Cruise', 'Make', 'Type'], ['Mileage', 'Cylinder', 'Liter', 'Cruise', 'Make', 'Type'], ['Doors', 'Cruise', 'Make', 'Type'], ['Mileage', 'Doors', 'Cruise', 'Make', 'Type'], ['Cylinder', 'Doors', 'Cruise', 'Make', 'Type'], ['Mileage', 'Cylinder', 'Doors', 'Cruise', 'Make', 'Type'], ['Liter', 'Doors', 'Cruise', 'Make', 'Type'], ['Mileage', 'Liter', 'Doors', 'Cruise', 'Make', 'Type'], ['Cylinder', 'Liter', 'Doors', 'Cruise', 'Make', 'Type'], ['Mileage', 'Cylinder', 'Liter', 'Doors', 'Cruise', 'Make', 'Type'], ['Sound', 'Make', 'Type'], ['Mileage', 'Sound', 'Make', 'Type'], ['Cylinder', 'Sound', 'Make', 'Type'], ['Mileage', 'Cylinder', 'Sound', 'Make', 'Type'], ['Liter', 'Sound', 'Make', 'Type'], ['Mileage', 'Liter', 'Sound', 'Make', 'Type'], ['Cylinder', 'Liter', 'Sound', 'Make', 'Type'], ['Mileage', 'Cylinder', 'Liter', 'Sound', 'Make', 'Type'], ['Doors', 'Sound', 'Make', 'Type'], ['Mileage', 'Doors', 'Sound', 'Make', 'Type'], ['Cylinder', 'Doors', 'Sound', 'Make', 'Type'], ['Mileage', 'Cylinder', 'Doors', 'Sound', 'Make', 'Type'], ['Liter', 'Doors', 'Sound', 'Make', 'Type'], ['Mileage', 'Liter', 'Doors', 'Sound', 'Make', 'Type'], ['Cylinder', 'Liter', 'Doors', 'Sound', 'Make', 'Type'], ['Mileage', 'Cylinder', 'Liter', 'Doors', 'Sound', 'Make', 'Type'], ['Cruise', 'Sound', 'Make', 'Type'], ['Mileage', 'Cruise', 'Sound', 'Make', 'Type'], ['Cylinder', 'Cruise', 'Sound', 'Make', 'Type'], ['Mileage', 'Cylinder', 'Cruise', 'Sound', 'Make', 'Type'], ['Liter', 'Cruise', 'Sound', 'Make', 'Type'], ['Mileage', 'Liter', 'Cruise', 'Sound', 'Make', 'Type'], ['Cylinder', 'Liter', 'Cruise', 'Sound', 'Make', 'Type'], ['Mileage', 'Cylinder', 'Liter', 'Cruise', 'Sound', 'Make', 'Type'], ['Doors', 'Cruise', 'Sound', 'Make', 'Type'], ['Mileage', 'Doors', 'Cruise', 'Sound', 'Make', 'Type'], ['Cylinder', 'Doors', 'Cruise', 'Sound', 'Make', 'Type'], ['Mileage', 'Cylinder', 'Doors', 'Cruise', 'Sound', 'Make', 'Type'], ['Liter', 'Doors', 'Cruise', 'Sound', 'Make', 'Type'], ['Mileage', 'Liter', 'Doors', 'Cruise', 'Sound', 'Make', 'Type'], ['Cylinder', 'Liter', 'Doors', 'Cruise', 'Sound', 'Make', 'Type'], ['Mileage', 'Cylinder', 'Liter', 'Doors', 'Cruise', 'Sound', 'Make', 'Type'], ['Leather', 'Make', 'Type'], ['Mileage', 'Leather', 'Make', 'Type'], ['Cylinder', 'Leather', 'Make', 'Type'], ['Mileage', 'Cylinder', 'Leather', 'Make', 'Type'], ['Liter', 'Leather', 'Make', 'Type'], ['Mileage', 'Liter', 'Leather', 'Make', 'Type'], ['Cylinder', 'Liter', 'Leather', 'Make', 'Type'], ['Mileage', 'Cylinder', 'Liter', 'Leather', 'Make', 'Type'], ['Doors', 'Leather', 'Make', 'Type'], ['Mileage', 'Doors', 'Leather', 'Make', 'Type'], ['Cylinder', 'Doors', 'Leather', 'Make', 'Type'], ['Mileage', 'Cylinder', 'Doors', 'Leather', 'Make', 'Type'], ['Liter', 'Doors', 'Leather', 'Make', 'Type'], ['Mileage', 'Liter', 'Doors', 'Leather', 'Make', 'Type'], ['Cylinder', 'Liter', 'Doors', 'Leather', 'Make', 'Type'], ['Mileage', 'Cylinder', 'Liter', 'Doors', 'Leather', 'Make', 'Type'], ['Cruise', 'Leather', 'Make', 'Type'], ['Mileage', 'Cruise', 'Leather', 'Make', 'Type'], ['Cylinder', 'Cruise', 'Leather', 'Make', 'Type'], ['Mileage', 'Cylinder', 'Cruise', 'Leather', 'Make', 'Type'], ['Liter', 'Cruise', 'Leather', 'Make', 'Type'], ['Mileage', 'Liter', 'Cruise', 'Leather', 'Make', 'Type'], ['Cylinder', 'Liter', 'Cruise', 'Leather', 'Make', 'Type'], ['Mileage', 'Cylinder', 'Liter', 'Cruise', 'Leather', 'Make', 'Type'], ['Doors', 'Cruise', 'Leather', 'Make', 'Type'], ['Mileage', 'Doors', 'Cruise', 'Leather', 'Make', 'Type'], ['Cylinder', 'Doors', 'Cruise', 'Leather', 'Make', 'Type'], ['Mileage', 'Cylinder', 'Doors', 'Cruise', 'Leather', 'Make', 'Type'], ['Liter', 'Doors', 'Cruise', 'Leather', 'Make', 'Type'], ['Mileage', 'Liter', 'Doors', 'Cruise', 'Leather', 'Make', 'Type'], ['Cylinder', 'Liter', 'Doors', 'Cruise', 'Leather', 'Make', 'Type'], ['Mileage', 'Cylinder', 'Liter', 'Doors', 'Cruise', 'Leather', 'Make', 'Type'], ['Sound', 'Leather', 'Make', 'Type'], ['Mileage', 'Sound', 'Leather', 'Make', 'Type'], ['Cylinder', 'Sound', 'Leather', 'Make', 'Type'], ['Mileage', 'Cylinder', 'Sound', 'Leather', 'Make', 'Type'], ['Liter', 'Sound', 'Leather', 'Make', 'Type'], ['Mileage', 'Liter', 'Sound', 'Leather', 'Make', 'Type'], ['Cylinder', 'Liter', 'Sound', 'Leather', 'Make', 'Type'], ['Mileage', 'Cylinder', 'Liter', 'Sound', 'Leather', 'Make', 'Type'], ['Doors', 'Sound', 'Leather', 'Make', 'Type'], ['Mileage', 'Doors', 'Sound', 'Leather', 'Make', 'Type'], ['Cylinder', 'Doors', 'Sound', 'Leather', 'Make', 'Type'], ['Mileage', 'Cylinder', 'Doors', 'Sound', 'Leather', 'Make', 'Type'], ['Liter', 'Doors', 'Sound', 'Leather', 'Make', 'Type'], ['Mileage', 'Liter', 'Doors', 'Sound', 'Leather', 'Make', 'Type'], ['Cylinder', 'Liter', 'Doors', 'Sound', 'Leather', 'Make', 'Type'], ['Mileage', 'Cylinder', 'Liter', 'Doors', 'Sound', 'Leather', 'Make', 'Type'], ['Cruise', 'Sound', 'Leather', 'Make', 'Type'], ['Mileage', 'Cruise', 'Sound', 'Leather', 'Make', 'Type'], ['Cylinder', 'Cruise', 'Sound', 'Leather', 'Make', 'Type'], ['Mileage', 'Cylinder', 'Cruise', 'Sound', 'Leather', 'Make', 'Type'], ['Liter', 'Cruise', 'Sound', 'Leather', 'Make', 'Type'], ['Mileage', 'Liter', 'Cruise', 'Sound', 'Leather', 'Make', 'Type'], ['Cylinder', 'Liter', 'Cruise', 'Sound', 'Leather', 'Make', 'Type'], ['Mileage', 'Cylinder', 'Liter', 'Cruise', 'Sound', 'Leather', 'Make', 'Type'], ['Doors', 'Cruise', 'Sound', 'Leather', 'Make', 'Type'], ['Mileage', 'Doors', 'Cruise', 'Sound', 'Leather', 'Make', 'Type'], ['Cylinder', 'Doors', 'Cruise', 'Sound', 'Leather', 'Make', 'Type'], ['Mileage', 'Cylinder', 'Doors', 'Cruise', 'Sound', 'Leather', 'Make', 'Type'], ['Liter', 'Doors', 'Cruise', 'Sound', 'Leather', 'Make', 'Type'], ['Mileage', 'Liter', 'Doors', 'Cruise', 'Sound', 'Leather', 'Make', 'Type'], ['Cylinder', 'Liter', 'Doors', 'Cruise', 'Sound', 'Leather', 'Make', 'Type'], ['Mileage', 'Cylinder', 'Liter', 'Doors', 'Cruise', 'Sound', 'Leather', 'Make', 'Type'], ['Model', 'Type'], ['Mileage', 'Model', 'Type'], ['Cylinder', 'Model', 'Type'], ['Mileage', 'Cylinder', 'Model', 'Type'], ['Liter', 'Model', 'Type'], ['Mileage', 'Liter', 'Model', 'Type'], ['Cylinder', 'Liter', 'Model', 'Type'], ['Mileage', 'Cylinder', 'Liter', 'Model', 'Type'], ['Doors', 'Model', 'Type'], ['Mileage', 'Doors', 'Model', 'Type'], ['Cylinder', 'Doors', 'Model', 'Type'], ['Mileage', 'Cylinder', 'Doors', 'Model', 'Type'], ['Liter', 'Doors', 'Model', 'Type'], ['Mileage', 'Liter', 'Doors', 'Model', 'Type'], ['Cylinder', 'Liter', 'Doors', 'Model', 'Type'], ['Mileage', 'Cylinder', 'Liter', 'Doors', 'Model', 'Type'], ['Cruise', 'Model', 'Type'], ['Mileage', 'Cruise', 'Model', 'Type'], ['Cylinder', 'Cruise', 'Model', 'Type'], ['Mileage', 'Cylinder', 'Cruise', 'Model', 'Type'], ['Liter', 'Cruise', 'Model', 'Type'], ['Mileage', 'Liter', 'Cruise', 'Model', 'Type'], ['Cylinder', 'Liter', 'Cruise', 'Model', 'Type'], ['Mileage', 'Cylinder', 'Liter', 'Cruise', 'Model', 'Type'], ['Doors', 'Cruise', 'Model', 'Type'], ['Mileage', 'Doors', 'Cruise', 'Model', 'Type'], ['Cylinder', 'Doors', 'Cruise', 'Model', 'Type'], ['Mileage', 'Cylinder', 'Doors', 'Cruise', 'Model', 'Type'], ['Liter', 'Doors', 'Cruise', 'Model', 'Type'], ['Mileage', 'Liter', 'Doors', 'Cruise', 'Model', 'Type'], ['Cylinder', 'Liter', 'Doors', 'Cruise', 'Model', 'Type'], ['Mileage', 'Cylinder', 'Liter', 'Doors', 'Cruise', 'Model', 'Type'], ['Sound', 'Model', 'Type'], ['Mileage', 'Sound', 'Model', 'Type'], ['Cylinder', 'Sound', 'Model', 'Type'], ['Mileage', 'Cylinder', 'Sound', 'Model', 'Type'], ['Liter', 'Sound', 'Model', 'Type'], ['Mileage', 'Liter', 'Sound', 'Model', 'Type'], ['Cylinder', 'Liter', 'Sound', 'Model', 'Type'], ['Mileage', 'Cylinder', 'Liter', 'Sound', 'Model', 'Type'], ['Doors', 'Sound', 'Model', 'Type'], ['Mileage', 'Doors', 'Sound', 'Model', 'Type'], ['Cylinder', 'Doors', 'Sound', 'Model', 'Type'], ['Mileage', 'Cylinder', 'Doors', 'Sound', 'Model', 'Type'], ['Liter', 'Doors', 'Sound', 'Model', 'Type'], ['Mileage', 'Liter', 'Doors', 'Sound', 'Model', 'Type'], ['Cylinder', 'Liter', 'Doors', 'Sound', 'Model', 'Type'], ['Mileage', 'Cylinder', 'Liter', 'Doors', 'Sound', 'Model', 'Type'], ['Cruise', 'Sound', 'Model', 'Type'], ['Mileage', 'Cruise', 'Sound', 'Model', 'Type'], ['Cylinder', 'Cruise', 'Sound', 'Model', 'Type'], ['Mileage', 'Cylinder', 'Cruise', 'Sound', 'Model', 'Type'], ['Liter', 'Cruise', 'Sound', 'Model', 'Type'], ['Mileage', 'Liter', 'Cruise', 'Sound', 'Model', 'Type'], ['Cylinder', 'Liter', 'Cruise', 'Sound', 'Model', 'Type'], ['Mileage', 'Cylinder', 'Liter', 'Cruise', 'Sound', 'Model', 'Type'], ['Doors', 'Cruise', 'Sound', 'Model', 'Type'], ['Mileage', 'Doors', 'Cruise', 'Sound', 'Model', 'Type'], ['Cylinder', 'Doors', 'Cruise', 'Sound', 'Model', 'Type'], ['Mileage', 'Cylinder', 'Doors', 'Cruise', 'Sound', 'Model', 'Type'], ['Liter', 'Doors', 'Cruise', 'Sound', 'Model', 'Type'], ['Mileage', 'Liter', 'Doors', 'Cruise', 'Sound', 'Model', 'Type'], ['Cylinder', 'Liter', 'Doors', 'Cruise', 'Sound', 'Model', 'Type'], ['Mileage', 'Cylinder', 'Liter', 'Doors', 'Cruise', 'Sound', 'Model', 'Type'], ['Leather', 'Model', 'Type'], ['Mileage', 'Leather', 'Model', 'Type'], ['Cylinder', 'Leather', 'Model', 'Type'], ['Mileage', 'Cylinder', 'Leather', 'Model', 'Type'], ['Liter', 'Leather', 'Model', 'Type'], ['Mileage', 'Liter', 'Leather', 'Model', 'Type'], ['Cylinder', 'Liter', 'Leather', 'Model', 'Type'], ['Mileage', 'Cylinder', 'Liter', 'Leather', 'Model', 'Type'], ['Doors', 'Leather', 'Model', 'Type'], ['Mileage', 'Doors', 'Leather', 'Model', 'Type'], ['Cylinder', 'Doors', 'Leather', 'Model', 'Type'], ['Mileage', 'Cylinder', 'Doors', 'Leather', 'Model', 'Type'], ['Liter', 'Doors', 'Leather', 'Model', 'Type'], ['Mileage', 'Liter', 'Doors', 'Leather', 'Model', 'Type'], ['Cylinder', 'Liter', 'Doors', 'Leather', 'Model', 'Type'], ['Mileage', 'Cylinder', 'Liter', 'Doors', 'Leather', 'Model', 'Type'], ['Cruise', 'Leather', 'Model', 'Type'], ['Mileage', 'Cruise', 'Leather', 'Model', 'Type'], ['Cylinder', 'Cruise', 'Leather', 'Model', 'Type'], ['Mileage', 'Cylinder', 'Cruise', 'Leather', 'Model', 'Type'], ['Liter', 'Cruise', 'Leather', 'Model', 'Type'], ['Mileage', 'Liter', 'Cruise', 'Leather', 'Model', 'Type'], ['Cylinder', 'Liter', 'Cruise', 'Leather', 'Model', 'Type'], ['Mileage', 'Cylinder', 'Liter', 'Cruise', 'Leather', 'Model', 'Type'], ['Doors', 'Cruise', 'Leather', 'Model', 'Type'], ['Mileage', 'Doors', 'Cruise', 'Leather', 'Model', 'Type'], ['Cylinder', 'Doors', 'Cruise', 'Leather', 'Model', 'Type'], ['Mileage', 'Cylinder', 'Doors', 'Cruise', 'Leather', 'Model', 'Type'], ['Liter', 'Doors', 'Cruise', 'Leather', 'Model', 'Type'], ['Mileage', 'Liter', 'Doors', 'Cruise', 'Leather', 'Model', 'Type'], ['Cylinder', 'Liter', 'Doors', 'Cruise', 'Leather', 'Model', 'Type'], ['Mileage', 'Cylinder', 'Liter', 'Doors', 'Cruise', 'Leather', 'Model', 'Type'], ['Sound', 'Leather', 'Model', 'Type'], ['Mileage', 'Sound', 'Leather', 'Model', 'Type'], ['Cylinder', 'Sound', 'Leather', 'Model', 'Type'], ['Mileage', 'Cylinder', 'Sound', 'Leather', 'Model', 'Type'], ['Liter', 'Sound', 'Leather', 'Model', 'Type'], ['Mileage', 'Liter', 'Sound', 'Leather', 'Model', 'Type'], ['Cylinder', 'Liter', 'Sound', 'Leather', 'Model', 'Type'], ['Mileage', 'Cylinder', 'Liter', 'Sound', 'Leather', 'Model', 'Type'], ['Doors', 'Sound', 'Leather', 'Model', 'Type'], ['Mileage', 'Doors', 'Sound', 'Leather', 'Model', 'Type'], ['Cylinder', 'Doors', 'Sound', 'Leather', 'Model', 'Type'], ['Mileage', 'Cylinder', 'Doors', 'Sound', 'Leather', 'Model', 'Type'], ['Liter', 'Doors', 'Sound', 'Leather', 'Model', 'Type'], ['Mileage', 'Liter', 'Doors', 'Sound', 'Leather', 'Model', 'Type'], ['Cylinder', 'Liter', 'Doors', 'Sound', 'Leather', 'Model', 'Type'], ['Mileage', 'Cylinder', 'Liter', 'Doors', 'Sound', 'Leather', 'Model', 'Type'], ['Cruise', 'Sound', 'Leather', 'Model', 'Type'], ['Mileage', 'Cruise', 'Sound', 'Leather', 'Model', 'Type'], ['Cylinder', 'Cruise', 'Sound', 'Leather', 'Model', 'Type'], ['Mileage', 'Cylinder', 'Cruise', 'Sound', 'Leather', 'Model', 'Type'], ['Liter', 'Cruise', 'Sound', 'Leather', 'Model', 'Type'], ['Mileage', 'Liter', 'Cruise', 'Sound', 'Leather', 'Model', 'Type'], ['Cylinder', 'Liter', 'Cruise', 'Sound', 'Leather', 'Model', 'Type'], ['Mileage', 'Cylinder', 'Liter', 'Cruise', 'Sound', 'Leather', 'Model', 'Type'], ['Doors', 'Cruise', 'Sound', 'Leather', 'Model', 'Type'], ['Mileage', 'Doors', 'Cruise', 'Sound', 'Leather', 'Model', 'Type'], ['Cylinder', 'Doors', 'Cruise', 'Sound', 'Leather', 'Model', 'Type'], ['Mileage', 'Cylinder', 'Doors', 'Cruise', 'Sound', 'Leather', 'Model', 'Type'], ['Liter', 'Doors', 'Cruise', 'Sound', 'Leather', 'Model', 'Type'], ['Mileage', 'Liter', 'Doors', 'Cruise', 'Sound', 'Leather', 'Model', 'Type'], ['Cylinder', 'Liter', 'Doors', 'Cruise', 'Sound', 'Leather', 'Model', 'Type'], ['Mileage', 'Cylinder', 'Liter', 'Doors', 'Cruise', 'Sound', 'Leather', 'Model', 'Type'], ['Make', 'Model', 'Type'], ['Mileage', 'Make', 'Model', 'Type'], ['Cylinder', 'Make', 'Model', 'Type'], ['Mileage', 'Cylinder', 'Make', 'Model', 'Type'], ['Liter', 'Make', 'Model', 'Type'], ['Mileage', 'Liter', 'Make', 'Model', 'Type'], ['Cylinder', 'Liter', 'Make', 'Model', 'Type'], ['Mileage', 'Cylinder', 'Liter', 'Make', 'Model', 'Type'], ['Doors', 'Make', 'Model', 'Type'], ['Mileage', 'Doors', 'Make', 'Model', 'Type'], ['Cylinder', 'Doors', 'Make', 'Model', 'Type'], ['Mileage', 'Cylinder', 'Doors', 'Make', 'Model', 'Type'], ['Liter', 'Doors', 'Make', 'Model', 'Type'], ['Mileage', 'Liter', 'Doors', 'Make', 'Model', 'Type'], ['Cylinder', 'Liter', 'Doors', 'Make', 'Model', 'Type'], ['Mileage', 'Cylinder', 'Liter', 'Doors', 'Make', 'Model', 'Type'], ['Cruise', 'Make', 'Model', 'Type'], ['Mileage', 'Cruise', 'Make', 'Model', 'Type'], ['Cylinder', 'Cruise', 'Make', 'Model', 'Type'], ['Mileage', 'Cylinder', 'Cruise', 'Make', 'Model', 'Type'], ['Liter', 'Cruise', 'Make', 'Model', 'Type'], ['Mileage', 'Liter', 'Cruise', 'Make', 'Model', 'Type'], ['Cylinder', 'Liter', 'Cruise', 'Make', 'Model', 'Type'], ['Mileage', 'Cylinder', 'Liter', 'Cruise', 'Make', 'Model', 'Type'], ['Doors', 'Cruise', 'Make', 'Model', 'Type'], ['Mileage', 'Doors', 'Cruise', 'Make', 'Model', 'Type'], ['Cylinder', 'Doors', 'Cruise', 'Make', 'Model', 'Type'], ['Mileage', 'Cylinder', 'Doors', 'Cruise', 'Make', 'Model', 'Type'], ['Liter', 'Doors', 'Cruise', 'Make', 'Model', 'Type'], ['Mileage', 'Liter', 'Doors', 'Cruise', 'Make', 'Model', 'Type'], ['Cylinder', 'Liter', 'Doors', 'Cruise', 'Make', 'Model', 'Type'], ['Mileage', 'Cylinder', 'Liter', 'Doors', 'Cruise', 'Make', 'Model', 'Type'], ['Sound', 'Make', 'Model', 'Type'], ['Mileage', 'Sound', 'Make', 'Model', 'Type'], ['Cylinder', 'Sound', 'Make', 'Model', 'Type'], ['Mileage', 'Cylinder', 'Sound', 'Make', 'Model', 'Type'], ['Liter', 'Sound', 'Make', 'Model', 'Type'], ['Mileage', 'Liter', 'Sound', 'Make', 'Model', 'Type'], ['Cylinder', 'Liter', 'Sound', 'Make', 'Model', 'Type'], ['Mileage', 'Cylinder', 'Liter', 'Sound', 'Make', 'Model', 'Type'], ['Doors', 'Sound', 'Make', 'Model', 'Type'], ['Mileage', 'Doors', 'Sound', 'Make', 'Model', 'Type'], ['Cylinder', 'Doors', 'Sound', 'Make', 'Model', 'Type'], ['Mileage', 'Cylinder', 'Doors', 'Sound', 'Make', 'Model', 'Type'], ['Liter', 'Doors', 'Sound', 'Make', 'Model', 'Type'], ['Mileage', 'Liter', 'Doors', 'Sound', 'Make', 'Model', 'Type'], ['Cylinder', 'Liter', 'Doors', 'Sound', 'Make', 'Model', 'Type'], ['Mileage', 'Cylinder', 'Liter', 'Doors', 'Sound', 'Make', 'Model', 'Type'], ['Cruise', 'Sound', 'Make', 'Model', 'Type'], ['Mileage', 'Cruise', 'Sound', 'Make', 'Model', 'Type'], ['Cylinder', 'Cruise', 'Sound', 'Make', 'Model', 'Type'], ['Mileage', 'Cylinder', 'Cruise', 'Sound', 'Make', 'Model', 'Type'], ['Liter', 'Cruise', 'Sound', 'Make', 'Model', 'Type'], ['Mileage', 'Liter', 'Cruise', 'Sound', 'Make', 'Model', 'Type'], ['Cylinder', 'Liter', 'Cruise', 'Sound', 'Make', 'Model', 'Type'], ['Mileage', 'Cylinder', 'Liter', 'Cruise', 'Sound', 'Make', 'Model', 'Type'], ['Doors', 'Cruise', 'Sound', 'Make', 'Model', 'Type'], ['Mileage', 'Doors', 'Cruise', 'Sound', 'Make', 'Model', 'Type'], ['Cylinder', 'Doors', 'Cruise', 'Sound', 'Make', 'Model', 'Type'], ['Mileage', 'Cylinder', 'Doors', 'Cruise', 'Sound', 'Make', 'Model', 'Type'], ['Liter', 'Doors', 'Cruise', 'Sound', 'Make', 'Model', 'Type'], ['Mileage', 'Liter', 'Doors', 'Cruise', 'Sound', 'Make', 'Model', 'Type'], ['Cylinder', 'Liter', 'Doors', 'Cruise', 'Sound', 'Make', 'Model', 'Type'], ['Mileage', 'Cylinder', 'Liter', 'Doors', 'Cruise', 'Sound', 'Make', 'Model', 'Type'], ['Leather', 'Make', 'Model', 'Type'], ['Mileage', 'Leather', 'Make', 'Model', 'Type'], ['Cylinder', 'Leather', 'Make', 'Model', 'Type'], ['Mileage', 'Cylinder', 'Leather', 'Make', 'Model', 'Type'], ['Liter', 'Leather', 'Make', 'Model', 'Type'], ['Mileage', 'Liter', 'Leather', 'Make', 'Model', 'Type'], ['Cylinder', 'Liter', 'Leather', 'Make', 'Model', 'Type'], ['Mileage', 'Cylinder', 'Liter', 'Leather', 'Make', 'Model', 'Type'], ['Doors', 'Leather', 'Make', 'Model', 'Type'], ['Mileage', 'Doors', 'Leather', 'Make', 'Model', 'Type'], ['Cylinder', 'Doors', 'Leather', 'Make', 'Model', 'Type'], ['Mileage', 'Cylinder', 'Doors', 'Leather', 'Make', 'Model', 'Type'], ['Liter', 'Doors', 'Leather', 'Make', 'Model', 'Type'], ['Mileage', 'Liter', 'Doors', 'Leather', 'Make', 'Model', 'Type'], ['Cylinder', 'Liter', 'Doors', 'Leather', 'Make', 'Model', 'Type'], ['Mileage', 'Cylinder', 'Liter', 'Doors', 'Leather', 'Make', 'Model', 'Type'], ['Cruise', 'Leather', 'Make', 'Model', 'Type'], ['Mileage', 'Cruise', 'Leather', 'Make', 'Model', 'Type'], ['Cylinder', 'Cruise', 'Leather', 'Make', 'Model', 'Type'], ['Mileage', 'Cylinder', 'Cruise', 'Leather', 'Make', 'Model', 'Type'], ['Liter', 'Cruise', 'Leather', 'Make', 'Model', 'Type'], ['Mileage', 'Liter', 'Cruise', 'Leather', 'Make', 'Model', 'Type'], ['Cylinder', 'Liter', 'Cruise', 'Leather', 'Make', 'Model', 'Type'], ['Mileage', 'Cylinder', 'Liter', 'Cruise', 'Leather', 'Make', 'Model', 'Type'], ['Doors', 'Cruise', 'Leather', 'Make', 'Model', 'Type'], ['Mileage', 'Doors', 'Cruise', 'Leather', 'Make', 'Model', 'Type'], ['Cylinder', 'Doors', 'Cruise', 'Leather', 'Make', 'Model', 'Type'], ['Mileage', 'Cylinder', 'Doors', 'Cruise', 'Leather', 'Make', 'Model', 'Type'], ['Liter', 'Doors', 'Cruise', 'Leather', 'Make', 'Model', 'Type'], ['Mileage', 'Liter', 'Doors', 'Cruise', 'Leather', 'Make', 'Model', 'Type'], ['Cylinder', 'Liter', 'Doors', 'Cruise', 'Leather', 'Make', 'Model', 'Type'], ['Mileage', 'Cylinder', 'Liter', 'Doors', 'Cruise', 'Leather', 'Make', 'Model', 'Type'], ['Sound', 'Leather', 'Make', 'Model', 'Type'], ['Mileage', 'Sound', 'Leather', 'Make', 'Model', 'Type'], ['Cylinder', 'Sound', 'Leather', 'Make', 'Model', 'Type'], ['Mileage', 'Cylinder', 'Sound', 'Leather', 'Make', 'Model', 'Type'], ['Liter', 'Sound', 'Leather', 'Make', 'Model', 'Type'], ['Mileage', 'Liter', 'Sound', 'Leather', 'Make', 'Model', 'Type'], ['Cylinder', 'Liter', 'Sound', 'Leather', 'Make', 'Model', 'Type'], ['Mileage', 'Cylinder', 'Liter', 'Sound', 'Leather', 'Make', 'Model', 'Type'], ['Doors', 'Sound', 'Leather', 'Make', 'Model', 'Type'], ['Mileage', 'Doors', 'Sound', 'Leather', 'Make', 'Model', 'Type'], ['Cylinder', 'Doors', 'Sound', 'Leather', 'Make', 'Model', 'Type'], ['Mileage', 'Cylinder', 'Doors', 'Sound', 'Leather', 'Make', 'Model', 'Type'], ['Liter', 'Doors', 'Sound', 'Leather', 'Make', 'Model', 'Type'], ['Mileage', 'Liter', 'Doors', 'Sound', 'Leather', 'Make', 'Model', 'Type'], ['Cylinder', 'Liter', 'Doors', 'Sound', 'Leather', 'Make', 'Model', 'Type'], ['Mileage', 'Cylinder', 'Liter', 'Doors', 'Sound', 'Leather', 'Make', 'Model', 'Type'], ['Cruise', 'Sound', 'Leather', 'Make', 'Model', 'Type'], ['Mileage', 'Cruise', 'Sound', 'Leather', 'Make', 'Model', 'Type'], ['Cylinder', 'Cruise', 'Sound', 'Leather', 'Make', 'Model', 'Type'], ['Mileage', 'Cylinder', 'Cruise', 'Sound', 'Leather', 'Make', 'Model', 'Type'], ['Liter', 'Cruise', 'Sound', 'Leather', 'Make', 'Model', 'Type'], ['Mileage', 'Liter', 'Cruise', 'Sound', 'Leather', 'Make', 'Model', 'Type'], ['Cylinder', 'Liter', 'Cruise', 'Sound', 'Leather', 'Make', 'Model', 'Type'], ['Mileage', 'Cylinder', 'Liter', 'Cruise', 'Sound', 'Leather', 'Make', 'Model', 'Type'], ['Doors', 'Cruise', 'Sound', 'Leather', 'Make', 'Model', 'Type'], ['Mileage', 'Doors', 'Cruise', 'Sound', 'Leather', 'Make', 'Model', 'Type'], ['Cylinder', 'Doors', 'Cruise', 'Sound', 'Leather', 'Make', 'Model', 'Type'], ['Mileage', 'Cylinder', 'Doors', 'Cruise', 'Sound', 'Leather', 'Make', 'Model', 'Type'], ['Liter', 'Doors', 'Cruise', 'Sound', 'Leather', 'Make', 'Model', 'Type'], ['Mileage', 'Liter', 'Doors', 'Cruise', 'Sound', 'Leather', 'Make', 'Model', 'Type'], ['Cylinder', 'Liter', 'Doors', 'Cruise', 'Sound', 'Leather', 'Make', 'Model', 'Type'], ['Mileage', 'Cylinder', 'Liter', 'Doors', 'Cruise', 'Sound', 'Leather', 'Make', 'Model', 'Type']]\n"
     ]
    }
   ],
   "source": [
    "def combinations(Ft):\n",
    "  if Ft:\n",
    "    result = combinations(Ft[:-1])\n",
    "    return result + [i+[Ft[-1]] for i in result]\n",
    "  else:\n",
    "    return [[]]\n",
    "comb = combinations(['Mileage','Cylinder','Liter','Doors','Cruise','Sound','Leather','Make','Model','Type'])\n",
    "comb = comb[1:]\n",
    "print(comb)"
   ]
  },
  {
   "cell_type": "code",
   "execution_count": 37,
   "metadata": {},
   "outputs": [],
   "source": [
    "R2_Score = []\n",
    "for i in comb:\n",
    "  X = df[i]\n",
    "  y = df['Price'].values\n",
    "  X = pd.get_dummies(X,columns=[j for j in to_encode if j in X.columns])\n",
    "  X_train,X_test,y_train,y_test = train_test_split(X,y,test_size=0.30,random_state=20)\n",
    "  \n",
    "  if 'Mileage' in X_train:\n",
    "    scaler = StandardScaler()\n",
    "    scaler.fit(X_train)\n",
    "    X_train_scaled = scaler.transform(X_train) \n",
    "    X_test_scaled = scaler.transform(X_test)\n",
    "  regressor = LinearRegression()\n",
    "  regressor.fit(X_train_scaled,y_train)\n",
    "  y_predict = regressor.predict(X_test_scaled)\n",
    "  R2_Score.append(r2_score(y_test,y_predict))"
   ]
  },
  {
   "cell_type": "code",
   "execution_count": 38,
   "metadata": {},
   "outputs": [
    {
     "data": {
      "text/html": [
       "<div>\n",
       "<style scoped>\n",
       "    .dataframe tbody tr th:only-of-type {\n",
       "        vertical-align: middle;\n",
       "    }\n",
       "\n",
       "    .dataframe tbody tr th {\n",
       "        vertical-align: top;\n",
       "    }\n",
       "\n",
       "    .dataframe thead th {\n",
       "        text-align: right;\n",
       "    }\n",
       "</style>\n",
       "<table border=\"1\" class=\"dataframe\">\n",
       "  <thead>\n",
       "    <tr style=\"text-align: right;\">\n",
       "      <th></th>\n",
       "      <th>Feature Combination</th>\n",
       "      <th>R2 Score</th>\n",
       "    </tr>\n",
       "  </thead>\n",
       "  <tbody>\n",
       "    <tr>\n",
       "      <th>0</th>\n",
       "      <td>[Mileage]</td>\n",
       "      <td>0.039431</td>\n",
       "    </tr>\n",
       "    <tr>\n",
       "      <th>1</th>\n",
       "      <td>[Cylinder]</td>\n",
       "      <td>0.039431</td>\n",
       "    </tr>\n",
       "    <tr>\n",
       "      <th>2</th>\n",
       "      <td>[Mileage, Cylinder]</td>\n",
       "      <td>0.298457</td>\n",
       "    </tr>\n",
       "    <tr>\n",
       "      <th>3</th>\n",
       "      <td>[Liter]</td>\n",
       "      <td>0.298457</td>\n",
       "    </tr>\n",
       "    <tr>\n",
       "      <th>4</th>\n",
       "      <td>[Mileage, Liter]</td>\n",
       "      <td>0.309513</td>\n",
       "    </tr>\n",
       "    <tr>\n",
       "      <th>...</th>\n",
       "      <td>...</td>\n",
       "      <td>...</td>\n",
       "    </tr>\n",
       "    <tr>\n",
       "      <th>1018</th>\n",
       "      <td>[Mileage, Cylinder, Doors, Cruise, Sound, Leat...</td>\n",
       "      <td>0.979971</td>\n",
       "    </tr>\n",
       "    <tr>\n",
       "      <th>1019</th>\n",
       "      <td>[Liter, Doors, Cruise, Sound, Leather, Make, M...</td>\n",
       "      <td>0.979971</td>\n",
       "    </tr>\n",
       "    <tr>\n",
       "      <th>1020</th>\n",
       "      <td>[Mileage, Liter, Doors, Cruise, Sound, Leather...</td>\n",
       "      <td>0.979837</td>\n",
       "    </tr>\n",
       "    <tr>\n",
       "      <th>1021</th>\n",
       "      <td>[Cylinder, Liter, Doors, Cruise, Sound, Leathe...</td>\n",
       "      <td>0.979837</td>\n",
       "    </tr>\n",
       "    <tr>\n",
       "      <th>1022</th>\n",
       "      <td>[Mileage, Cylinder, Liter, Doors, Cruise, Soun...</td>\n",
       "      <td>0.980135</td>\n",
       "    </tr>\n",
       "  </tbody>\n",
       "</table>\n",
       "<p>1023 rows × 2 columns</p>\n",
       "</div>"
      ],
      "text/plain": [
       "                                    Feature Combination  R2 Score\n",
       "0                                             [Mileage]  0.039431\n",
       "1                                            [Cylinder]  0.039431\n",
       "2                                   [Mileage, Cylinder]  0.298457\n",
       "3                                               [Liter]  0.298457\n",
       "4                                      [Mileage, Liter]  0.309513\n",
       "...                                                 ...       ...\n",
       "1018  [Mileage, Cylinder, Doors, Cruise, Sound, Leat...  0.979971\n",
       "1019  [Liter, Doors, Cruise, Sound, Leather, Make, M...  0.979971\n",
       "1020  [Mileage, Liter, Doors, Cruise, Sound, Leather...  0.979837\n",
       "1021  [Cylinder, Liter, Doors, Cruise, Sound, Leathe...  0.979837\n",
       "1022  [Mileage, Cylinder, Liter, Doors, Cruise, Soun...  0.980135\n",
       "\n",
       "[1023 rows x 2 columns]"
      ]
     },
     "execution_count": 38,
     "metadata": {},
     "output_type": "execute_result"
    }
   ],
   "source": [
    "df_final = pd.DataFrame({'Feature Combination':comb,'R2 Score':R2_Score})\n",
    "df_final"
   ]
  },
  {
   "cell_type": "code",
   "execution_count": 39,
   "metadata": {},
   "outputs": [
    {
     "data": {
      "text/plain": [
       "0.9801481574947476"
      ]
     },
     "execution_count": 39,
     "metadata": {},
     "output_type": "execute_result"
    }
   ],
   "source": [
    "df_final['R2 Score'].max()"
   ]
  },
  {
   "cell_type": "code",
   "execution_count": 40,
   "metadata": {},
   "outputs": [
    {
     "data": {
      "text/plain": [
       "['Mileage', 'Liter', 'Leather', 'Make', 'Model', 'Type']"
      ]
     },
     "execution_count": 40,
     "metadata": {},
     "output_type": "execute_result"
    }
   ],
   "source": [
    "df_final['Feature Combination'][df_final['R2 Score'].argmax()]"
   ]
  },
  {
   "cell_type": "code",
   "execution_count": 41,
   "metadata": {
    "scrolled": true
   },
   "outputs": [
    {
     "data": {
      "image/png": "[encoded data removed]",
      "text/plain": [
       "<Figure size 432x288 with 1 Axes>"
      ]
     },
     "metadata": {
      "needs_background": "light"
     },
     "output_type": "display_data"
    }
   ],
   "source": [
    "# Vizulaizing Actual & Predicted Price for the  best combination of factors ['Mileage', 'Cylinder', 'Leather', 'Make', 'Model', 'Trim', 'Type'] to predict price\n",
    "\n",
    "X = df[['Mileage', 'Liter', 'Leather', 'Make', 'Model', 'Type']]\n",
    "y = df['Price'].values\n",
    "X = pd.get_dummies(X,columns=[j for j in to_encode if j in X.columns])\n",
    "X_train,X_test,y_train,y_test = train_test_split(X,y,test_size=0.30,random_state=200)\n",
    "regressor = LinearRegression()\n",
    "regressor.fit(X_train,y_train)\n",
    "y_predict = regressor.predict(X_test)\n",
    "\n",
    "plt.scatter(y_test,y_predict,color=\"Green\",alpha=0.4)\n",
    "plt.xlabel(\"Actual Price\")\n",
    "plt.ylabel(\"Predicted Price\")\n",
    "plt.title(\"Actual Price VS. Predicted Price\")\n",
    "plt.show()"
   ]
  },
  {
   "cell_type": "code",
   "execution_count": 42,
   "metadata": {},
   "outputs": [
    {
     "data": {
      "text/html": [
       "<div>\n",
       "<style scoped>\n",
       "    .dataframe tbody tr th:only-of-type {\n",
       "        vertical-align: middle;\n",
       "    }\n",
       "\n",
       "    .dataframe tbody tr th {\n",
       "        vertical-align: top;\n",
       "    }\n",
       "\n",
       "    .dataframe thead th {\n",
       "        text-align: right;\n",
       "    }\n",
       "</style>\n",
       "<table border=\"1\" class=\"dataframe\">\n",
       "  <thead>\n",
       "    <tr style=\"text-align: right;\">\n",
       "      <th></th>\n",
       "      <th>Actual</th>\n",
       "      <th>Predicted</th>\n",
       "    </tr>\n",
       "  </thead>\n",
       "  <tbody>\n",
       "    <tr>\n",
       "      <th>0</th>\n",
       "      <td>13072.841631</td>\n",
       "      <td>13553.634588</td>\n",
       "    </tr>\n",
       "    <tr>\n",
       "      <th>1</th>\n",
       "      <td>12383.402811</td>\n",
       "      <td>11615.644411</td>\n",
       "    </tr>\n",
       "    <tr>\n",
       "      <th>2</th>\n",
       "      <td>26698.078151</td>\n",
       "      <td>27758.363962</td>\n",
       "    </tr>\n",
       "    <tr>\n",
       "      <th>3</th>\n",
       "      <td>18566.070703</td>\n",
       "      <td>19606.585242</td>\n",
       "    </tr>\n",
       "    <tr>\n",
       "      <th>4</th>\n",
       "      <td>19641.741902</td>\n",
       "      <td>17948.730940</td>\n",
       "    </tr>\n",
       "    <tr>\n",
       "      <th>...</th>\n",
       "      <td>...</td>\n",
       "      <td>...</td>\n",
       "    </tr>\n",
       "    <tr>\n",
       "      <th>237</th>\n",
       "      <td>42773.028390</td>\n",
       "      <td>43536.282662</td>\n",
       "    </tr>\n",
       "    <tr>\n",
       "      <th>238</th>\n",
       "      <td>13174.071009</td>\n",
       "      <td>14806.533254</td>\n",
       "    </tr>\n",
       "    <tr>\n",
       "      <th>239</th>\n",
       "      <td>15395.010874</td>\n",
       "      <td>14837.035147</td>\n",
       "    </tr>\n",
       "    <tr>\n",
       "      <th>240</th>\n",
       "      <td>29612.154048</td>\n",
       "      <td>32073.578266</td>\n",
       "    </tr>\n",
       "    <tr>\n",
       "      <th>241</th>\n",
       "      <td>12810.910585</td>\n",
       "      <td>14249.361253</td>\n",
       "    </tr>\n",
       "  </tbody>\n",
       "</table>\n",
       "<p>242 rows × 2 columns</p>\n",
       "</div>"
      ],
      "text/plain": [
       "           Actual     Predicted\n",
       "0    13072.841631  13553.634588\n",
       "1    12383.402811  11615.644411\n",
       "2    26698.078151  27758.363962\n",
       "3    18566.070703  19606.585242\n",
       "4    19641.741902  17948.730940\n",
       "..            ...           ...\n",
       "237  42773.028390  43536.282662\n",
       "238  13174.071009  14806.533254\n",
       "239  15395.010874  14837.035147\n",
       "240  29612.154048  32073.578266\n",
       "241  12810.910585  14249.361253\n",
       "\n",
       "[242 rows x 2 columns]"
      ]
     },
     "execution_count": 42,
     "metadata": {},
     "output_type": "execute_result"
    }
   ],
   "source": [
    "df_Prediction = pd.DataFrame({'Actual':y_test,'Predicted':y_predict})\n",
    "df_Prediction.sort_index(axis = 0)"
   ]
  },
  {
   "cell_type": "markdown",
   "metadata": {},
   "source": [
    "'Mileage', 'Liter', 'Leather', 'Make', 'Model', 'Type' are the combination of the factors that best predict the price."
   ]
  },
  {
   "cell_type": "markdown",
   "metadata": {},
   "source": [
    "After using categorical variables along with numerical variable for the price prediction, we can see that the R² score = 0.98 which has increased and gives the best fit for the model."
   ]
  },
  {
   "cell_type": "markdown",
   "metadata": {},
   "source": [
    "The predicted price values are more or less the same as compared to the actual price value."
   ]
  }
 ],
 "metadata": {
  "kernelspec": {
   "display_name": "Python 3",
   "language": "python",
   "name": "python3"
  },
  "language_info": {
   "codemirror_mode": {
    "name": "ipython",
    "version": 3
   },
   "file_extension": ".py",
   "mimetype": "text/x-python",
   "name": "python",
   "nbconvert_exporter": "python",
   "pygments_lexer": "ipython3",
   "version": "3.8.8"
  }
 },
 "nbformat": 4,
 "nbformat_minor": 1
}
