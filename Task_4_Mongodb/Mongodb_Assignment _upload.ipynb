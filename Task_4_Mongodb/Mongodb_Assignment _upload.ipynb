{
 "cells": [
  {
   "cell_type": "code",
   "execution_count": 1,
   "id": "e5562932",
   "metadata": {},
   "outputs": [],
   "source": [
    "from pymongo import MongoClient\n",
    "import json"
   ]
  },
  {
   "cell_type": "code",
   "execution_count": 2,
   "id": "490ffd80",
   "metadata": {},
   "outputs": [],
   "source": [
    "john = MongoClient(\"\")"
   ]
  },
  {
   "cell_type": "code",
   "execution_count": 6,
   "id": "f77c3bb0",
   "metadata": {},
   "outputs": [],
   "source": [
    "db=john[\"Guvi\"]\n",
    "collection = db[\"Students\"]"
   ]
  },
  {
   "cell_type": "code",
   "execution_count": 33,
   "id": "acf54f38",
   "metadata": {},
   "outputs": [
    {
     "data": {
      "text/plain": [
       "<pymongo.results.InsertManyResult at 0x1c5b97c5d00>"
      ]
     },
     "execution_count": 33,
     "metadata": {},
     "output_type": "execute_result"
    }
   ],
   "source": [
    "data = [json.loads(line) for line in open('students.json', 'r')]\n",
    "collection.insert_many(data)"
   ]
  },
  {
   "cell_type": "markdown",
   "id": "907c6007",
   "metadata": {},
   "source": [
    "### 1)      Find the student name who scored maximum scores in all (exam, quiz and homework)?"
   ]
  },
  {
   "cell_type": "code",
   "execution_count": 8,
   "id": "6e4350d7",
   "metadata": {},
   "outputs": [
    {
     "name": "stdout",
     "output_type": "stream",
     "text": [
      "{'name': 'Margart Vitello', 'scores': {'score': 99.33685767140612}}\n"
     ]
    }
   ],
   "source": [
    "# exam\n",
    "a = collection.aggregate(\n",
    "[\n",
    "    {'$unwind':'$scores'},\n",
    "    {'$match':{'scores.type':'exam'}},\n",
    "    {'$sort':{'scores.score':-1}},\n",
    "    {'$project':{'_id':0,'name':1,'scores.score':1}},\n",
    "    {'$limit':1}\n",
    "])\n",
    "for i in a:\n",
    "    print(i)"
   ]
  },
  {
   "cell_type": "code",
   "execution_count": 9,
   "id": "a355db4a",
   "metadata": {},
   "outputs": [
    {
     "name": "stdout",
     "output_type": "stream",
     "text": [
      "{'name': 'Cody Strouth', 'scores': {'score': 99.80348240553108}}\n"
     ]
    }
   ],
   "source": [
    "# quiz\n",
    "a = collection.aggregate(\n",
    "[\n",
    "    {'$unwind':'$scores'},\n",
    "    {'$match':{'scores.type':'quiz'}},\n",
    "    {'$sort':{'scores.score':-1}},\n",
    "    {'$project':{'_id':0,'name':1,'scores.score':1}},\n",
    "    {'$limit':1}\n",
    "])\n",
    "for i in a:\n",
    "    print(i)"
   ]
  },
  {
   "cell_type": "code",
   "execution_count": 12,
   "id": "d53bb638",
   "metadata": {},
   "outputs": [
    {
     "name": "stdout",
     "output_type": "stream",
     "text": [
      "{'name': 'Whitley Fears', 'scores': {'score': 99.77237745070993}}\n"
     ]
    }
   ],
   "source": [
    "# homework\n",
    "a = collection.aggregate(\n",
    "[\n",
    "    {'$unwind':'$scores'},\n",
    "    {'$match':{'scores.type':'homework'}},\n",
    "    {'$sort':{'scores.score':-1}},\n",
    "    {'$project':{'_id':0,'name':1,'scores.score':1}},\n",
    "    {'$limit':1}\n",
    "])\n",
    "for i in a:\n",
    "    print(i)"
   ]
  },
  {
   "cell_type": "markdown",
   "id": "83246e39",
   "metadata": {},
   "source": [
    "### 2)      Find students who scored below average in the exam and pass mark is 40%?"
   ]
  },
  {
   "cell_type": "code",
   "execution_count": 13,
   "id": "52ac4667",
   "metadata": {},
   "outputs": [
    {
     "name": "stdout",
     "output_type": "stream",
     "text": [
      "{'_id': 'exam', 'average': 48.67367075950175}\n"
     ]
    }
   ],
   "source": [
    "a = collection.aggregate(\n",
    "[\n",
    "    {'$unwind':'$scores'},\n",
    "    {'$match':{'scores.type':'exam'}},\n",
    "    {'$group':{'_id':'$scores.type','average':{'$avg':'$scores.score'}}},\n",
    "    {'$project':{'_id':1,'average':1}},\n",
    "])\n",
    "for i in a:\n",
    "    print(i)"
   ]
  },
  {
   "cell_type": "code",
   "execution_count": 14,
   "id": "4f931e93",
   "metadata": {},
   "outputs": [
    {
     "name": "stdout",
     "output_type": "stream",
     "text": [
      "Wilburn Spiess\n",
      "Denisha Cast\n",
      "Gisela Levin\n",
      "Tressa Schwing\n",
      "Rosana Vales\n",
      "Tamika Schildgen\n",
      "Gwyneth Garling\n",
      "Kayce Kenyon\n",
      "Terica Brugger\n",
      "Chad Rahe\n",
      "Jenise Mcguffie\n",
      "Cassi Heal\n",
      "Demarcus Audette\n",
      "Flora Duell\n",
      "Quincy Danaher\n",
      "Alix Sherrill\n",
      "Laureen Salomone\n",
      "Gwyneth Garling\n",
      "Aleida Elsass\n",
      "Alica Pasley\n",
      "Malisa Jeanes\n",
      "Harriett Velarde\n",
      "Mariela Sherer\n"
     ]
    }
   ],
   "source": [
    "a = collection.aggregate(\n",
    "[\n",
    "    {'$unwind':'$scores'},\n",
    "    {'$match':{'scores.type':'exam'}},\n",
    "    {'$group':\n",
    "    {\n",
    "        '_id':'$scores.type',\n",
    "        'average':{'$avg':'$scores.score'}\n",
    "    }},\n",
    "    {'$project':{'_id':0,'average':1}}\n",
    "])\n",
    "for i in a:\n",
    "    average = i['average']\n",
    "res = collection.find({'scores':\n",
    "                {'$elemMatch':\n",
    "                  {'$and':\n",
    "                    [{'type':'exam'},{'score':{'$gte':40,'$lt':average}}]}}},\n",
    "                   {'_id':0})\n",
    "for i in res:\n",
    "    print(i['name'])"
   ]
  },
  {
   "cell_type": "markdown",
   "id": "9a32140d",
   "metadata": {},
   "source": [
    "### 3)      Find students who scored below pass mark and assigned them as fail, and above pass mark as pass in all the categories."
   ]
  },
  {
   "cell_type": "code",
   "execution_count": 15,
   "id": "93f772e1",
   "metadata": {},
   "outputs": [],
   "source": [
    "# exam\n",
    "a = collection.aggregate(\n",
    "[\n",
    "    {'$unwind':'$scores'},\n",
    "    {'$match':{'scores.type':'exam'}},\n",
    "    {'$project':{'_id':1,'name':1,'score':'$scores.score'}}\n",
    "])\n",
    "for i in a:\n",
    "    if i['score'] >= 40:\n",
    "        res = collection.update_one({'_id':i['_id']},{'$set':{'scores.0.status':'Pass'}})\n",
    "    else:\n",
    "        res = collection.update_one({'_id':i['_id']},{'$set':{'scores.0.status':'Fail'}})"
   ]
  },
  {
   "cell_type": "code",
   "execution_count": 17,
   "id": "ef9602b6",
   "metadata": {},
   "outputs": [],
   "source": [
    "# quiz\n",
    "a = collection.aggregate(\n",
    "[\n",
    "    {'$unwind':'$scores'},\n",
    "    {'$match':{'scores.type':'quiz'}},\n",
    "    {'$project':{'_id':1,'name':1,'score':'$scores.score'}}\n",
    "])\n",
    "for  i in a:\n",
    "    if i['score'] >= 40:\n",
    "        res = collection.update_one({'_id':i['_id']},{'$set':{'scores.1.status':'Pass'}})\n",
    "    else:\n",
    "        res = collection.update_one({'_id':i['_id']},{'$set':{'scores.1.status':'Fail'}})"
   ]
  },
  {
   "cell_type": "code",
   "execution_count": 18,
   "id": "31e0e89b",
   "metadata": {},
   "outputs": [],
   "source": [
    "# homework\n",
    "a = collection.aggregate(\n",
    "[\n",
    "    {'$unwind':'$scores'},\n",
    "    {'$match':{'scores.type':'homework'}},\n",
    "    {'$project':{'_id':1,'name':1,'score':'$scores.score'}}\n",
    "])\n",
    "for  i in a:\n",
    "    if i['score'] >= 40:\n",
    "        res = collection.update_one({'_id':i['_id']},{'$set':{'scores.2.status':'Pass'}})\n",
    "    else:\n",
    "        res = collection.update_one({'_id':i['_id']},{'$set':{'scores.2.status':'Fail'}})"
   ]
  },
  {
   "cell_type": "markdown",
   "id": "5ca9ed63",
   "metadata": {},
   "source": [
    "### 4)       Find the total and average of the exam, quiz and homework and store them in a separate collection."
   ]
  },
  {
   "cell_type": "code",
   "execution_count": 19,
   "id": "b4cef742",
   "metadata": {},
   "outputs": [],
   "source": [
    "total_avg = db[\"test_1\"]"
   ]
  },
  {
   "cell_type": "code",
   "execution_count": 24,
   "id": "fce7583a",
   "metadata": {},
   "outputs": [
    {
     "name": "stdout",
     "output_type": "stream",
     "text": [
      "{'_id': 'exam', 'Average': 48.67367075950175, 'Sum': 9734.734151900351}\n",
      "True\n",
      "{'_id': 'homework', 'Average': 67.81869620661149, 'Sum': 13563.739241322297}\n",
      "True\n",
      "{'_id': 'quiz', 'Average': 48.99672319430254, 'Sum': 9799.344638860508}\n",
      "True\n"
     ]
    }
   ],
   "source": [
    "a = collection.aggregate(\n",
    "[\n",
    "    {'$unwind':'$scores'},\n",
    "    {'$group':\n",
    "    {\n",
    "        '_id':'$scores.type',\n",
    "        'Average':{'$avg':'$scores.score'},\n",
    "        'Sum' : {'$sum':'$scores.score'}\n",
    "    }},\n",
    "    {'$project':{'_id':1,'Average':1,'Sum':1}}\n",
    "])\n",
    "for i in a:\n",
    "    print(i)\n",
    "    res = total_avg.insert_one(i)\n",
    "    print(res.acknowledged)"
   ]
  },
  {
   "cell_type": "markdown",
   "id": "9100ec42",
   "metadata": {},
   "source": [
    "### 5)      Create a new collection which consists of students who scored below average and above 40% in all the categories"
   ]
  },
  {
   "cell_type": "code",
   "execution_count": 31,
   "id": "a9eb9ab0",
   "metadata": {},
   "outputs": [],
   "source": [
    "below_avg = db[\"test_2\"]"
   ]
  },
  {
   "cell_type": "code",
   "execution_count": 28,
   "id": "eed897ef",
   "metadata": {},
   "outputs": [
    {
     "name": "stdout",
     "output_type": "stream",
     "text": [
      "Exam Average = 48.67367075950175\n",
      "HomeWork Average = 67.81869620661149\n",
      "Quiz Average = 48.99672319430254\n"
     ]
    }
   ],
   "source": [
    "#exam\n",
    "a = collection.aggregate(\n",
    "[\n",
    "    {'$unwind':'$scores'},\n",
    "    {'$group':\n",
    "    {\n",
    "        '_id':'$scores.type',\n",
    "        'average':{'$avg':'$scores.score'}\n",
    "    }},\n",
    "    {'$project':{'_id':1,'average':1}}\n",
    "])\n",
    "for i in a:\n",
    "    if i['_id'] == 'exam':\n",
    "        exam_avg = i['average']\n",
    "    elif i['_id'] == 'homework':\n",
    "        hw_avg = i['average']\n",
    "    else:\n",
    "        quiz_avg = i['average']\n",
    "print('Exam Average = '+ str(exam_avg) + '\\nHomeWork Average = '+ str(hw_avg) + '\\nQuiz Average = ' + str(quiz_avg))"
   ]
  },
  {
   "cell_type": "code",
   "execution_count": 33,
   "id": "af88bcb6",
   "metadata": {},
   "outputs": [
    {
     "name": "stdout",
     "output_type": "stream",
     "text": [
      "Inserted Documents: 23\n"
     ]
    }
   ],
   "source": [
    "b = collection.find(\n",
    "{\n",
    "    'scores':{\n",
    "        '$elemMatch':\n",
    "        {'$and':[{'type':'exam','score':{'$gte':40,'$lt':exam_avg}}]},\n",
    "    }\n",
    "},{'_id':0})\n",
    "count = 0\n",
    "for i in b:\n",
    "    res = below_avg.insert_one(i)\n",
    "    if res.acknowledged == True:\n",
    "        count = count + 1\n",
    "print('Inserted Documents: '+ str(count))"
   ]
  },
  {
   "cell_type": "code",
   "execution_count": 34,
   "id": "a83ea7c3",
   "metadata": {},
   "outputs": [
    {
     "name": "stdout",
     "output_type": "stream",
     "text": [
      "Inserted Documents: 19\n"
     ]
    }
   ],
   "source": [
    "b = collection.find(\n",
    "{\n",
    "    'scores':{\n",
    "        '$elemMatch':\n",
    "        {'$and':[{'type':'quiz','score':{'$gte':40,'$lt':quiz_avg}}]},\n",
    "    }\n",
    "},{'_id':0})\n",
    "count = 0\n",
    "for i in b:\n",
    "    res = below_avg.insert_one(i)\n",
    "    if res.acknowledged == True:\n",
    "        count = count + 1\n",
    "print('Inserted Documents: '+ str(count))"
   ]
  },
  {
   "cell_type": "code",
   "execution_count": 36,
   "id": "45f82fd2",
   "metadata": {},
   "outputs": [
    {
     "name": "stdout",
     "output_type": "stream",
     "text": [
      "Inserted Documents: 61\n"
     ]
    }
   ],
   "source": [
    "b = collection.find(\n",
    "{\n",
    "    'scores':{\n",
    "        '$elemMatch':\n",
    "        {'$and':[{'type':'homework','score':{'$gte':40,'$lt':hw_avg}}]},\n",
    "    }\n",
    "},{'_id':0})\n",
    "count = 0\n",
    "for i in b:\n",
    "    res = below_avg.insert_one(i)\n",
    "    if res.acknowledged == True:\n",
    "        count = count + 1\n",
    "print('Inserted Documents: '+ str(count))"
   ]
  },
  {
   "cell_type": "markdown",
   "id": "2a4d0b9d",
   "metadata": {},
   "source": [
    "### 6)      Create a new collection which consists of students who scored below the fail mark in all the categories."
   ]
  },
  {
   "cell_type": "code",
   "execution_count": null,
   "id": "b333d927",
   "metadata": {},
   "outputs": [],
   "source": [
    "failed = db[\"test_3\"]"
   ]
  },
  {
   "cell_type": "code",
   "execution_count": null,
   "id": "e57de99a",
   "metadata": {},
   "outputs": [],
   "source": [
    "result = collection.find(\n",
    "{\n",
    "    'scores':{\n",
    "        '$elemMatch':\n",
    "        {'$and':[{'type':'exam','score':{'$lt':40}},\n",
    "                 {'type':'homework','score':{'$lt':40}},\n",
    "                 {'type':'quiz','score':{'$lt':40}}]},\n",
    "    }\n",
    "},{'_id':0})\n",
    "count = 0\n",
    "for i in result:\n",
    "    res = failed.insert_one(i)\n",
    "    if res.acknowledged == True:\n",
    "        count = count + 1\n",
    "print('Inserted Documents: '+ str(count))"
   ]
  },
  {
   "cell_type": "markdown",
   "id": "8817b356",
   "metadata": {},
   "source": [
    "### 7)      Create a new collection which consists of students who scored above pass mark in all the categories"
   ]
  },
  {
   "cell_type": "code",
   "execution_count": null,
   "id": "9d475ad9",
   "metadata": {},
   "outputs": [],
   "source": [
    "passed = db[\"test_4\"]"
   ]
  },
  {
   "cell_type": "code",
   "execution_count": null,
   "id": "e52f5a1f",
   "metadata": {},
   "outputs": [],
   "source": [
    "result = collection.find(\n",
    "{\n",
    "    'scores':{\n",
    "        '$elemMatch':\n",
    "        {'$and':[{'type':'exam','score':{'$gt':40}},\n",
    "                 {'type':'homework','score':{'$gt':40}},\n",
    "                 {'type':'quiz','score':{'$gt':40}}]},\n",
    "    }\n",
    "},{'_id':0})\n",
    "count = 0\n",
    "for i in result:\n",
    "    res = passed.insert_one(i)\n",
    "    if res.acknowledged == True:\n",
    "        count = count + 1\n",
    "print('Inserted Documents: '+ str(count))"
   ]
  }
 ],
 "metadata": {
  "kernelspec": {
   "display_name": "Python 3",
   "language": "python",
   "name": "python3"
  },
  "language_info": {
   "codemirror_mode": {
    "name": "ipython",
    "version": 3
   },
   "file_extension": ".py",
   "mimetype": "text/x-python",
   "name": "python",
   "nbconvert_exporter": "python",
   "pygments_lexer": "ipython3",
   "version": "3.8.8"
  }
 },
 "nbformat": 4,
 "nbformat_minor": 5
}
